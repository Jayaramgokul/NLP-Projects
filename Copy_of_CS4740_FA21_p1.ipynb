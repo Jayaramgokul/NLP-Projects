{
  "nbformat": 4,
  "nbformat_minor": 0,
  "metadata": {
    "colab": {
      "name": "Copy of CS4740_FA21_p1.ipynb",
      "provenance": [],
      "collapsed_sections": [
        "9MVtIIyEzSS2",
        "ddOznZ7P2nlI",
        "HvET3mDvxL2j"
      ],
      "include_colab_link": true
    },
    "kernelspec": {
      "name": "python3",
      "display_name": "Python 3"
    },
    "widgets": {
      "application/vnd.jupyter.widget-state+json": {
        "73f66bb9052a440a95acb349b686e0aa": {
          "model_module": "@jupyter-widgets/controls",
          "model_name": "HBoxModel",
          "model_module_version": "1.5.0",
          "state": {
            "_view_name": "HBoxView",
            "_dom_classes": [],
            "_model_name": "HBoxModel",
            "_view_module": "@jupyter-widgets/controls",
            "_model_module_version": "1.5.0",
            "_view_count": null,
            "_view_module_version": "1.5.0",
            "box_style": "",
            "layout": "IPY_MODEL_8d5de578459c47a293a6d3f64c98c4e6",
            "_model_module": "@jupyter-widgets/controls",
            "children": [
              "IPY_MODEL_37b0a80d2c524fbc9ed2e7f600829767",
              "IPY_MODEL_c674bb0512554ba98318d82beb0f9a35",
              "IPY_MODEL_50991771bfd248fa8acae97554710f4e"
            ]
          }
        },
        "8d5de578459c47a293a6d3f64c98c4e6": {
          "model_module": "@jupyter-widgets/base",
          "model_name": "LayoutModel",
          "model_module_version": "1.2.0",
          "state": {
            "_view_name": "LayoutView",
            "grid_template_rows": null,
            "right": null,
            "justify_content": null,
            "_view_module": "@jupyter-widgets/base",
            "overflow": null,
            "_model_module_version": "1.2.0",
            "_view_count": null,
            "flex_flow": null,
            "width": null,
            "min_width": null,
            "border": null,
            "align_items": null,
            "bottom": null,
            "_model_module": "@jupyter-widgets/base",
            "top": null,
            "grid_column": null,
            "overflow_y": null,
            "overflow_x": null,
            "grid_auto_flow": null,
            "grid_area": null,
            "grid_template_columns": null,
            "flex": null,
            "_model_name": "LayoutModel",
            "justify_items": null,
            "grid_row": null,
            "max_height": null,
            "align_content": null,
            "visibility": null,
            "align_self": null,
            "height": null,
            "min_height": null,
            "padding": null,
            "grid_auto_rows": null,
            "grid_gap": null,
            "max_width": null,
            "order": null,
            "_view_module_version": "1.2.0",
            "grid_template_areas": null,
            "object_position": null,
            "object_fit": null,
            "grid_auto_columns": null,
            "margin": null,
            "display": null,
            "left": null
          }
        },
        "37b0a80d2c524fbc9ed2e7f600829767": {
          "model_module": "@jupyter-widgets/controls",
          "model_name": "HTMLModel",
          "model_module_version": "1.5.0",
          "state": {
            "_view_name": "HTMLView",
            "style": "IPY_MODEL_e062d33de9e1432eb09e1b6a2c647162",
            "_dom_classes": [],
            "description": "",
            "_model_name": "HTMLModel",
            "placeholder": "​",
            "_view_module": "@jupyter-widgets/controls",
            "_model_module_version": "1.5.0",
            "value": " 92%",
            "_view_count": null,
            "_view_module_version": "1.5.0",
            "description_tooltip": null,
            "_model_module": "@jupyter-widgets/controls",
            "layout": "IPY_MODEL_df39108131314dff9dc2fb73b5db1c95"
          }
        },
        "c674bb0512554ba98318d82beb0f9a35": {
          "model_module": "@jupyter-widgets/controls",
          "model_name": "FloatProgressModel",
          "model_module_version": "1.5.0",
          "state": {
            "_view_name": "ProgressView",
            "style": "IPY_MODEL_a1590f21246e43dd960e7e7ca318c8f3",
            "_dom_classes": [],
            "description": "",
            "_model_name": "FloatProgressModel",
            "bar_style": "",
            "max": 642,
            "_view_module": "@jupyter-widgets/controls",
            "_model_module_version": "1.5.0",
            "value": 642,
            "_view_count": null,
            "_view_module_version": "1.5.0",
            "orientation": "horizontal",
            "min": 0,
            "description_tooltip": null,
            "_model_module": "@jupyter-widgets/controls",
            "layout": "IPY_MODEL_637500a963f449f2b6e03d055afed1a4"
          }
        },
        "50991771bfd248fa8acae97554710f4e": {
          "model_module": "@jupyter-widgets/controls",
          "model_name": "HTMLModel",
          "model_module_version": "1.5.0",
          "state": {
            "_view_name": "HTMLView",
            "style": "IPY_MODEL_55ed81e6baf4451fa418a4a0056e541e",
            "_dom_classes": [],
            "description": "",
            "_model_name": "HTMLModel",
            "placeholder": "​",
            "_view_module": "@jupyter-widgets/controls",
            "_model_module_version": "1.5.0",
            "value": " 593/642 [00:01&lt;00:00, 559.25it/s]",
            "_view_count": null,
            "_view_module_version": "1.5.0",
            "description_tooltip": null,
            "_model_module": "@jupyter-widgets/controls",
            "layout": "IPY_MODEL_65b1839055804a4984ba7b74162cdcce"
          }
        },
        "e062d33de9e1432eb09e1b6a2c647162": {
          "model_module": "@jupyter-widgets/controls",
          "model_name": "DescriptionStyleModel",
          "model_module_version": "1.5.0",
          "state": {
            "_view_name": "StyleView",
            "_model_name": "DescriptionStyleModel",
            "description_width": "",
            "_view_module": "@jupyter-widgets/base",
            "_model_module_version": "1.5.0",
            "_view_count": null,
            "_view_module_version": "1.2.0",
            "_model_module": "@jupyter-widgets/controls"
          }
        },
        "df39108131314dff9dc2fb73b5db1c95": {
          "model_module": "@jupyter-widgets/base",
          "model_name": "LayoutModel",
          "model_module_version": "1.2.0",
          "state": {
            "_view_name": "LayoutView",
            "grid_template_rows": null,
            "right": null,
            "justify_content": null,
            "_view_module": "@jupyter-widgets/base",
            "overflow": null,
            "_model_module_version": "1.2.0",
            "_view_count": null,
            "flex_flow": null,
            "width": null,
            "min_width": null,
            "border": null,
            "align_items": null,
            "bottom": null,
            "_model_module": "@jupyter-widgets/base",
            "top": null,
            "grid_column": null,
            "overflow_y": null,
            "overflow_x": null,
            "grid_auto_flow": null,
            "grid_area": null,
            "grid_template_columns": null,
            "flex": null,
            "_model_name": "LayoutModel",
            "justify_items": null,
            "grid_row": null,
            "max_height": null,
            "align_content": null,
            "visibility": null,
            "align_self": null,
            "height": null,
            "min_height": null,
            "padding": null,
            "grid_auto_rows": null,
            "grid_gap": null,
            "max_width": null,
            "order": null,
            "_view_module_version": "1.2.0",
            "grid_template_areas": null,
            "object_position": null,
            "object_fit": null,
            "grid_auto_columns": null,
            "margin": null,
            "display": null,
            "left": null
          }
        },
        "a1590f21246e43dd960e7e7ca318c8f3": {
          "model_module": "@jupyter-widgets/controls",
          "model_name": "ProgressStyleModel",
          "model_module_version": "1.5.0",
          "state": {
            "_view_name": "StyleView",
            "_model_name": "ProgressStyleModel",
            "description_width": "",
            "_view_module": "@jupyter-widgets/base",
            "_model_module_version": "1.5.0",
            "_view_count": null,
            "_view_module_version": "1.2.0",
            "bar_color": null,
            "_model_module": "@jupyter-widgets/controls"
          }
        },
        "637500a963f449f2b6e03d055afed1a4": {
          "model_module": "@jupyter-widgets/base",
          "model_name": "LayoutModel",
          "model_module_version": "1.2.0",
          "state": {
            "_view_name": "LayoutView",
            "grid_template_rows": null,
            "right": null,
            "justify_content": null,
            "_view_module": "@jupyter-widgets/base",
            "overflow": null,
            "_model_module_version": "1.2.0",
            "_view_count": null,
            "flex_flow": null,
            "width": null,
            "min_width": null,
            "border": null,
            "align_items": null,
            "bottom": null,
            "_model_module": "@jupyter-widgets/base",
            "top": null,
            "grid_column": null,
            "overflow_y": null,
            "overflow_x": null,
            "grid_auto_flow": null,
            "grid_area": null,
            "grid_template_columns": null,
            "flex": null,
            "_model_name": "LayoutModel",
            "justify_items": null,
            "grid_row": null,
            "max_height": null,
            "align_content": null,
            "visibility": null,
            "align_self": null,
            "height": null,
            "min_height": null,
            "padding": null,
            "grid_auto_rows": null,
            "grid_gap": null,
            "max_width": null,
            "order": null,
            "_view_module_version": "1.2.0",
            "grid_template_areas": null,
            "object_position": null,
            "object_fit": null,
            "grid_auto_columns": null,
            "margin": null,
            "display": null,
            "left": null
          }
        },
        "55ed81e6baf4451fa418a4a0056e541e": {
          "model_module": "@jupyter-widgets/controls",
          "model_name": "DescriptionStyleModel",
          "model_module_version": "1.5.0",
          "state": {
            "_view_name": "StyleView",
            "_model_name": "DescriptionStyleModel",
            "description_width": "",
            "_view_module": "@jupyter-widgets/base",
            "_model_module_version": "1.5.0",
            "_view_count": null,
            "_view_module_version": "1.2.0",
            "_model_module": "@jupyter-widgets/controls"
          }
        },
        "65b1839055804a4984ba7b74162cdcce": {
          "model_module": "@jupyter-widgets/base",
          "model_name": "LayoutModel",
          "model_module_version": "1.2.0",
          "state": {
            "_view_name": "LayoutView",
            "grid_template_rows": null,
            "right": null,
            "justify_content": null,
            "_view_module": "@jupyter-widgets/base",
            "overflow": null,
            "_model_module_version": "1.2.0",
            "_view_count": null,
            "flex_flow": null,
            "width": null,
            "min_width": null,
            "border": null,
            "align_items": null,
            "bottom": null,
            "_model_module": "@jupyter-widgets/base",
            "top": null,
            "grid_column": null,
            "overflow_y": null,
            "overflow_x": null,
            "grid_auto_flow": null,
            "grid_area": null,
            "grid_template_columns": null,
            "flex": null,
            "_model_name": "LayoutModel",
            "justify_items": null,
            "grid_row": null,
            "max_height": null,
            "align_content": null,
            "visibility": null,
            "align_self": null,
            "height": null,
            "min_height": null,
            "padding": null,
            "grid_auto_rows": null,
            "grid_gap": null,
            "max_width": null,
            "order": null,
            "_view_module_version": "1.2.0",
            "grid_template_areas": null,
            "object_position": null,
            "object_fit": null,
            "grid_auto_columns": null,
            "margin": null,
            "display": null,
            "left": null
          }
        },
        "98f2754001dc4f7298c5448835050e6a": {
          "model_module": "@jupyter-widgets/controls",
          "model_name": "HBoxModel",
          "model_module_version": "1.5.0",
          "state": {
            "_view_name": "HBoxView",
            "_dom_classes": [],
            "_model_name": "HBoxModel",
            "_view_module": "@jupyter-widgets/controls",
            "_model_module_version": "1.5.0",
            "_view_count": null,
            "_view_module_version": "1.5.0",
            "box_style": "",
            "layout": "IPY_MODEL_e8ee9fa75ea44a49b814f013b08a410c",
            "_model_module": "@jupyter-widgets/controls",
            "children": [
              "IPY_MODEL_95efb41f463142bbaeae458c334cc2d9",
              "IPY_MODEL_3e54d280f8344911a8d04a33fadca897",
              "IPY_MODEL_c89a012a80344c1489ad8e3862f19506"
            ]
          }
        },
        "e8ee9fa75ea44a49b814f013b08a410c": {
          "model_module": "@jupyter-widgets/base",
          "model_name": "LayoutModel",
          "model_module_version": "1.2.0",
          "state": {
            "_view_name": "LayoutView",
            "grid_template_rows": null,
            "right": null,
            "justify_content": null,
            "_view_module": "@jupyter-widgets/base",
            "overflow": null,
            "_model_module_version": "1.2.0",
            "_view_count": null,
            "flex_flow": null,
            "width": null,
            "min_width": null,
            "border": null,
            "align_items": null,
            "bottom": null,
            "_model_module": "@jupyter-widgets/base",
            "top": null,
            "grid_column": null,
            "overflow_y": null,
            "overflow_x": null,
            "grid_auto_flow": null,
            "grid_area": null,
            "grid_template_columns": null,
            "flex": null,
            "_model_name": "LayoutModel",
            "justify_items": null,
            "grid_row": null,
            "max_height": null,
            "align_content": null,
            "visibility": null,
            "align_self": null,
            "height": null,
            "min_height": null,
            "padding": null,
            "grid_auto_rows": null,
            "grid_gap": null,
            "max_width": null,
            "order": null,
            "_view_module_version": "1.2.0",
            "grid_template_areas": null,
            "object_position": null,
            "object_fit": null,
            "grid_auto_columns": null,
            "margin": null,
            "display": null,
            "left": null
          }
        },
        "95efb41f463142bbaeae458c334cc2d9": {
          "model_module": "@jupyter-widgets/controls",
          "model_name": "HTMLModel",
          "model_module_version": "1.5.0",
          "state": {
            "_view_name": "HTMLView",
            "style": "IPY_MODEL_5e558187fba541c285aafd24593f3597",
            "_dom_classes": [],
            "description": "",
            "_model_name": "HTMLModel",
            "placeholder": "​",
            "_view_module": "@jupyter-widgets/controls",
            "_model_module_version": "1.5.0",
            "value": "100%",
            "_view_count": null,
            "_view_module_version": "1.5.0",
            "description_tooltip": null,
            "_model_module": "@jupyter-widgets/controls",
            "layout": "IPY_MODEL_17152d11a3ce4c00a01079b7ef053d66"
          }
        },
        "3e54d280f8344911a8d04a33fadca897": {
          "model_module": "@jupyter-widgets/controls",
          "model_name": "FloatProgressModel",
          "model_module_version": "1.5.0",
          "state": {
            "_view_name": "ProgressView",
            "style": "IPY_MODEL_7911741e70f34134974d6efe9e8bef7a",
            "_dom_classes": [],
            "description": "",
            "_model_name": "FloatProgressModel",
            "bar_style": "",
            "max": 638,
            "_view_module": "@jupyter-widgets/controls",
            "_model_module_version": "1.5.0",
            "value": 638,
            "_view_count": null,
            "_view_module_version": "1.5.0",
            "orientation": "horizontal",
            "min": 0,
            "description_tooltip": null,
            "_model_module": "@jupyter-widgets/controls",
            "layout": "IPY_MODEL_33ca6a65a30a4ef3964bef84da1faef9"
          }
        },
        "c89a012a80344c1489ad8e3862f19506": {
          "model_module": "@jupyter-widgets/controls",
          "model_name": "HTMLModel",
          "model_module_version": "1.5.0",
          "state": {
            "_view_name": "HTMLView",
            "style": "IPY_MODEL_f773a2a98e564d4799d667b0b41800b2",
            "_dom_classes": [],
            "description": "",
            "_model_name": "HTMLModel",
            "placeholder": "​",
            "_view_module": "@jupyter-widgets/controls",
            "_model_module_version": "1.5.0",
            "value": " 636/638 [00:01&lt;00:00, 639.74it/s]",
            "_view_count": null,
            "_view_module_version": "1.5.0",
            "description_tooltip": null,
            "_model_module": "@jupyter-widgets/controls",
            "layout": "IPY_MODEL_beb77585bac94596ba6c3857b1970644"
          }
        },
        "5e558187fba541c285aafd24593f3597": {
          "model_module": "@jupyter-widgets/controls",
          "model_name": "DescriptionStyleModel",
          "model_module_version": "1.5.0",
          "state": {
            "_view_name": "StyleView",
            "_model_name": "DescriptionStyleModel",
            "description_width": "",
            "_view_module": "@jupyter-widgets/base",
            "_model_module_version": "1.5.0",
            "_view_count": null,
            "_view_module_version": "1.2.0",
            "_model_module": "@jupyter-widgets/controls"
          }
        },
        "17152d11a3ce4c00a01079b7ef053d66": {
          "model_module": "@jupyter-widgets/base",
          "model_name": "LayoutModel",
          "model_module_version": "1.2.0",
          "state": {
            "_view_name": "LayoutView",
            "grid_template_rows": null,
            "right": null,
            "justify_content": null,
            "_view_module": "@jupyter-widgets/base",
            "overflow": null,
            "_model_module_version": "1.2.0",
            "_view_count": null,
            "flex_flow": null,
            "width": null,
            "min_width": null,
            "border": null,
            "align_items": null,
            "bottom": null,
            "_model_module": "@jupyter-widgets/base",
            "top": null,
            "grid_column": null,
            "overflow_y": null,
            "overflow_x": null,
            "grid_auto_flow": null,
            "grid_area": null,
            "grid_template_columns": null,
            "flex": null,
            "_model_name": "LayoutModel",
            "justify_items": null,
            "grid_row": null,
            "max_height": null,
            "align_content": null,
            "visibility": null,
            "align_self": null,
            "height": null,
            "min_height": null,
            "padding": null,
            "grid_auto_rows": null,
            "grid_gap": null,
            "max_width": null,
            "order": null,
            "_view_module_version": "1.2.0",
            "grid_template_areas": null,
            "object_position": null,
            "object_fit": null,
            "grid_auto_columns": null,
            "margin": null,
            "display": null,
            "left": null
          }
        },
        "7911741e70f34134974d6efe9e8bef7a": {
          "model_module": "@jupyter-widgets/controls",
          "model_name": "ProgressStyleModel",
          "model_module_version": "1.5.0",
          "state": {
            "_view_name": "StyleView",
            "_model_name": "ProgressStyleModel",
            "description_width": "",
            "_view_module": "@jupyter-widgets/base",
            "_model_module_version": "1.5.0",
            "_view_count": null,
            "_view_module_version": "1.2.0",
            "bar_color": null,
            "_model_module": "@jupyter-widgets/controls"
          }
        },
        "33ca6a65a30a4ef3964bef84da1faef9": {
          "model_module": "@jupyter-widgets/base",
          "model_name": "LayoutModel",
          "model_module_version": "1.2.0",
          "state": {
            "_view_name": "LayoutView",
            "grid_template_rows": null,
            "right": null,
            "justify_content": null,
            "_view_module": "@jupyter-widgets/base",
            "overflow": null,
            "_model_module_version": "1.2.0",
            "_view_count": null,
            "flex_flow": null,
            "width": null,
            "min_width": null,
            "border": null,
            "align_items": null,
            "bottom": null,
            "_model_module": "@jupyter-widgets/base",
            "top": null,
            "grid_column": null,
            "overflow_y": null,
            "overflow_x": null,
            "grid_auto_flow": null,
            "grid_area": null,
            "grid_template_columns": null,
            "flex": null,
            "_model_name": "LayoutModel",
            "justify_items": null,
            "grid_row": null,
            "max_height": null,
            "align_content": null,
            "visibility": null,
            "align_self": null,
            "height": null,
            "min_height": null,
            "padding": null,
            "grid_auto_rows": null,
            "grid_gap": null,
            "max_width": null,
            "order": null,
            "_view_module_version": "1.2.0",
            "grid_template_areas": null,
            "object_position": null,
            "object_fit": null,
            "grid_auto_columns": null,
            "margin": null,
            "display": null,
            "left": null
          }
        },
        "f773a2a98e564d4799d667b0b41800b2": {
          "model_module": "@jupyter-widgets/controls",
          "model_name": "DescriptionStyleModel",
          "model_module_version": "1.5.0",
          "state": {
            "_view_name": "StyleView",
            "_model_name": "DescriptionStyleModel",
            "description_width": "",
            "_view_module": "@jupyter-widgets/base",
            "_model_module_version": "1.5.0",
            "_view_count": null,
            "_view_module_version": "1.2.0",
            "_model_module": "@jupyter-widgets/controls"
          }
        },
        "beb77585bac94596ba6c3857b1970644": {
          "model_module": "@jupyter-widgets/base",
          "model_name": "LayoutModel",
          "model_module_version": "1.2.0",
          "state": {
            "_view_name": "LayoutView",
            "grid_template_rows": null,
            "right": null,
            "justify_content": null,
            "_view_module": "@jupyter-widgets/base",
            "overflow": null,
            "_model_module_version": "1.2.0",
            "_view_count": null,
            "flex_flow": null,
            "width": null,
            "min_width": null,
            "border": null,
            "align_items": null,
            "bottom": null,
            "_model_module": "@jupyter-widgets/base",
            "top": null,
            "grid_column": null,
            "overflow_y": null,
            "overflow_x": null,
            "grid_auto_flow": null,
            "grid_area": null,
            "grid_template_columns": null,
            "flex": null,
            "_model_name": "LayoutModel",
            "justify_items": null,
            "grid_row": null,
            "max_height": null,
            "align_content": null,
            "visibility": null,
            "align_self": null,
            "height": null,
            "min_height": null,
            "padding": null,
            "grid_auto_rows": null,
            "grid_gap": null,
            "max_width": null,
            "order": null,
            "_view_module_version": "1.2.0",
            "grid_template_areas": null,
            "object_position": null,
            "object_fit": null,
            "grid_auto_columns": null,
            "margin": null,
            "display": null,
            "left": null
          }
        },
        "9d569f2bab6849e78c22a261a7695648": {
          "model_module": "@jupyter-widgets/controls",
          "model_name": "HBoxModel",
          "model_module_version": "1.5.0",
          "state": {
            "_view_name": "HBoxView",
            "_dom_classes": [],
            "_model_name": "HBoxModel",
            "_view_module": "@jupyter-widgets/controls",
            "_model_module_version": "1.5.0",
            "_view_count": null,
            "_view_module_version": "1.5.0",
            "box_style": "",
            "layout": "IPY_MODEL_2bb50e11a3c74661b0597a2b23c2679a",
            "_model_module": "@jupyter-widgets/controls",
            "children": [
              "IPY_MODEL_64c606210d93427ab74dd0b00ba7df5a",
              "IPY_MODEL_69d4534b5359481c9ec7f8bbac09b49a",
              "IPY_MODEL_720d49ff116c465e84a8fe1a9dfdc902"
            ]
          }
        },
        "2bb50e11a3c74661b0597a2b23c2679a": {
          "model_module": "@jupyter-widgets/base",
          "model_name": "LayoutModel",
          "model_module_version": "1.2.0",
          "state": {
            "_view_name": "LayoutView",
            "grid_template_rows": null,
            "right": null,
            "justify_content": null,
            "_view_module": "@jupyter-widgets/base",
            "overflow": null,
            "_model_module_version": "1.2.0",
            "_view_count": null,
            "flex_flow": null,
            "width": null,
            "min_width": null,
            "border": null,
            "align_items": null,
            "bottom": null,
            "_model_module": "@jupyter-widgets/base",
            "top": null,
            "grid_column": null,
            "overflow_y": null,
            "overflow_x": null,
            "grid_auto_flow": null,
            "grid_area": null,
            "grid_template_columns": null,
            "flex": null,
            "_model_name": "LayoutModel",
            "justify_items": null,
            "grid_row": null,
            "max_height": null,
            "align_content": null,
            "visibility": null,
            "align_self": null,
            "height": null,
            "min_height": null,
            "padding": null,
            "grid_auto_rows": null,
            "grid_gap": null,
            "max_width": null,
            "order": null,
            "_view_module_version": "1.2.0",
            "grid_template_areas": null,
            "object_position": null,
            "object_fit": null,
            "grid_auto_columns": null,
            "margin": null,
            "display": null,
            "left": null
          }
        },
        "64c606210d93427ab74dd0b00ba7df5a": {
          "model_module": "@jupyter-widgets/controls",
          "model_name": "HTMLModel",
          "model_module_version": "1.5.0",
          "state": {
            "_view_name": "HTMLView",
            "style": "IPY_MODEL_05ad3705dae445a099d93585ef93294b",
            "_dom_classes": [],
            "description": "",
            "_model_name": "HTMLModel",
            "placeholder": "​",
            "_view_module": "@jupyter-widgets/controls",
            "_model_module_version": "1.5.0",
            "value": " 72%",
            "_view_count": null,
            "_view_module_version": "1.5.0",
            "description_tooltip": null,
            "_model_module": "@jupyter-widgets/controls",
            "layout": "IPY_MODEL_8c8fa57f475b4db08ffe66dcada68aee"
          }
        },
        "69d4534b5359481c9ec7f8bbac09b49a": {
          "model_module": "@jupyter-widgets/controls",
          "model_name": "FloatProgressModel",
          "model_module_version": "1.5.0",
          "state": {
            "_view_name": "ProgressView",
            "style": "IPY_MODEL_afbfc762125544dcb9443e8777d434c8",
            "_dom_classes": [],
            "description": "",
            "_model_name": "FloatProgressModel",
            "bar_style": "",
            "max": 80,
            "_view_module": "@jupyter-widgets/controls",
            "_model_module_version": "1.5.0",
            "value": 80,
            "_view_count": null,
            "_view_module_version": "1.5.0",
            "orientation": "horizontal",
            "min": 0,
            "description_tooltip": null,
            "_model_module": "@jupyter-widgets/controls",
            "layout": "IPY_MODEL_49b9a59b42b941858249d3480f0bc156"
          }
        },
        "720d49ff116c465e84a8fe1a9dfdc902": {
          "model_module": "@jupyter-widgets/controls",
          "model_name": "HTMLModel",
          "model_module_version": "1.5.0",
          "state": {
            "_view_name": "HTMLView",
            "style": "IPY_MODEL_d1b4334fead443aaa934d738368bfaf6",
            "_dom_classes": [],
            "description": "",
            "_model_name": "HTMLModel",
            "placeholder": "​",
            "_view_module": "@jupyter-widgets/controls",
            "_model_module_version": "1.5.0",
            "value": " 58/80 [00:00&lt;00:00, 315.70it/s]",
            "_view_count": null,
            "_view_module_version": "1.5.0",
            "description_tooltip": null,
            "_model_module": "@jupyter-widgets/controls",
            "layout": "IPY_MODEL_815e79c1b3264cd28dedbfa005260779"
          }
        },
        "05ad3705dae445a099d93585ef93294b": {
          "model_module": "@jupyter-widgets/controls",
          "model_name": "DescriptionStyleModel",
          "model_module_version": "1.5.0",
          "state": {
            "_view_name": "StyleView",
            "_model_name": "DescriptionStyleModel",
            "description_width": "",
            "_view_module": "@jupyter-widgets/base",
            "_model_module_version": "1.5.0",
            "_view_count": null,
            "_view_module_version": "1.2.0",
            "_model_module": "@jupyter-widgets/controls"
          }
        },
        "8c8fa57f475b4db08ffe66dcada68aee": {
          "model_module": "@jupyter-widgets/base",
          "model_name": "LayoutModel",
          "model_module_version": "1.2.0",
          "state": {
            "_view_name": "LayoutView",
            "grid_template_rows": null,
            "right": null,
            "justify_content": null,
            "_view_module": "@jupyter-widgets/base",
            "overflow": null,
            "_model_module_version": "1.2.0",
            "_view_count": null,
            "flex_flow": null,
            "width": null,
            "min_width": null,
            "border": null,
            "align_items": null,
            "bottom": null,
            "_model_module": "@jupyter-widgets/base",
            "top": null,
            "grid_column": null,
            "overflow_y": null,
            "overflow_x": null,
            "grid_auto_flow": null,
            "grid_area": null,
            "grid_template_columns": null,
            "flex": null,
            "_model_name": "LayoutModel",
            "justify_items": null,
            "grid_row": null,
            "max_height": null,
            "align_content": null,
            "visibility": null,
            "align_self": null,
            "height": null,
            "min_height": null,
            "padding": null,
            "grid_auto_rows": null,
            "grid_gap": null,
            "max_width": null,
            "order": null,
            "_view_module_version": "1.2.0",
            "grid_template_areas": null,
            "object_position": null,
            "object_fit": null,
            "grid_auto_columns": null,
            "margin": null,
            "display": null,
            "left": null
          }
        },
        "afbfc762125544dcb9443e8777d434c8": {
          "model_module": "@jupyter-widgets/controls",
          "model_name": "ProgressStyleModel",
          "model_module_version": "1.5.0",
          "state": {
            "_view_name": "StyleView",
            "_model_name": "ProgressStyleModel",
            "description_width": "",
            "_view_module": "@jupyter-widgets/base",
            "_model_module_version": "1.5.0",
            "_view_count": null,
            "_view_module_version": "1.2.0",
            "bar_color": null,
            "_model_module": "@jupyter-widgets/controls"
          }
        },
        "49b9a59b42b941858249d3480f0bc156": {
          "model_module": "@jupyter-widgets/base",
          "model_name": "LayoutModel",
          "model_module_version": "1.2.0",
          "state": {
            "_view_name": "LayoutView",
            "grid_template_rows": null,
            "right": null,
            "justify_content": null,
            "_view_module": "@jupyter-widgets/base",
            "overflow": null,
            "_model_module_version": "1.2.0",
            "_view_count": null,
            "flex_flow": null,
            "width": null,
            "min_width": null,
            "border": null,
            "align_items": null,
            "bottom": null,
            "_model_module": "@jupyter-widgets/base",
            "top": null,
            "grid_column": null,
            "overflow_y": null,
            "overflow_x": null,
            "grid_auto_flow": null,
            "grid_area": null,
            "grid_template_columns": null,
            "flex": null,
            "_model_name": "LayoutModel",
            "justify_items": null,
            "grid_row": null,
            "max_height": null,
            "align_content": null,
            "visibility": null,
            "align_self": null,
            "height": null,
            "min_height": null,
            "padding": null,
            "grid_auto_rows": null,
            "grid_gap": null,
            "max_width": null,
            "order": null,
            "_view_module_version": "1.2.0",
            "grid_template_areas": null,
            "object_position": null,
            "object_fit": null,
            "grid_auto_columns": null,
            "margin": null,
            "display": null,
            "left": null
          }
        },
        "d1b4334fead443aaa934d738368bfaf6": {
          "model_module": "@jupyter-widgets/controls",
          "model_name": "DescriptionStyleModel",
          "model_module_version": "1.5.0",
          "state": {
            "_view_name": "StyleView",
            "_model_name": "DescriptionStyleModel",
            "description_width": "",
            "_view_module": "@jupyter-widgets/base",
            "_model_module_version": "1.5.0",
            "_view_count": null,
            "_view_module_version": "1.2.0",
            "_model_module": "@jupyter-widgets/controls"
          }
        },
        "815e79c1b3264cd28dedbfa005260779": {
          "model_module": "@jupyter-widgets/base",
          "model_name": "LayoutModel",
          "model_module_version": "1.2.0",
          "state": {
            "_view_name": "LayoutView",
            "grid_template_rows": null,
            "right": null,
            "justify_content": null,
            "_view_module": "@jupyter-widgets/base",
            "overflow": null,
            "_model_module_version": "1.2.0",
            "_view_count": null,
            "flex_flow": null,
            "width": null,
            "min_width": null,
            "border": null,
            "align_items": null,
            "bottom": null,
            "_model_module": "@jupyter-widgets/base",
            "top": null,
            "grid_column": null,
            "overflow_y": null,
            "overflow_x": null,
            "grid_auto_flow": null,
            "grid_area": null,
            "grid_template_columns": null,
            "flex": null,
            "_model_name": "LayoutModel",
            "justify_items": null,
            "grid_row": null,
            "max_height": null,
            "align_content": null,
            "visibility": null,
            "align_self": null,
            "height": null,
            "min_height": null,
            "padding": null,
            "grid_auto_rows": null,
            "grid_gap": null,
            "max_width": null,
            "order": null,
            "_view_module_version": "1.2.0",
            "grid_template_areas": null,
            "object_position": null,
            "object_fit": null,
            "grid_auto_columns": null,
            "margin": null,
            "display": null,
            "left": null
          }
        },
        "6537e4fcad5841dd9a7795be3dde8c48": {
          "model_module": "@jupyter-widgets/controls",
          "model_name": "HBoxModel",
          "model_module_version": "1.5.0",
          "state": {
            "_view_name": "HBoxView",
            "_dom_classes": [],
            "_model_name": "HBoxModel",
            "_view_module": "@jupyter-widgets/controls",
            "_model_module_version": "1.5.0",
            "_view_count": null,
            "_view_module_version": "1.5.0",
            "box_style": "",
            "layout": "IPY_MODEL_055cec3cca96441bb1e94fe3cb8c5b32",
            "_model_module": "@jupyter-widgets/controls",
            "children": [
              "IPY_MODEL_90244a0a28eb4eb6852be217e0a2cfd8",
              "IPY_MODEL_f9f4d93688cd4ea6ad14e5d677a913d5",
              "IPY_MODEL_6dd045b3e9ef4f78b421a818f890d9c8"
            ]
          }
        },
        "055cec3cca96441bb1e94fe3cb8c5b32": {
          "model_module": "@jupyter-widgets/base",
          "model_name": "LayoutModel",
          "model_module_version": "1.2.0",
          "state": {
            "_view_name": "LayoutView",
            "grid_template_rows": null,
            "right": null,
            "justify_content": null,
            "_view_module": "@jupyter-widgets/base",
            "overflow": null,
            "_model_module_version": "1.2.0",
            "_view_count": null,
            "flex_flow": null,
            "width": null,
            "min_width": null,
            "border": null,
            "align_items": null,
            "bottom": null,
            "_model_module": "@jupyter-widgets/base",
            "top": null,
            "grid_column": null,
            "overflow_y": null,
            "overflow_x": null,
            "grid_auto_flow": null,
            "grid_area": null,
            "grid_template_columns": null,
            "flex": null,
            "_model_name": "LayoutModel",
            "justify_items": null,
            "grid_row": null,
            "max_height": null,
            "align_content": null,
            "visibility": null,
            "align_self": null,
            "height": null,
            "min_height": null,
            "padding": null,
            "grid_auto_rows": null,
            "grid_gap": null,
            "max_width": null,
            "order": null,
            "_view_module_version": "1.2.0",
            "grid_template_areas": null,
            "object_position": null,
            "object_fit": null,
            "grid_auto_columns": null,
            "margin": null,
            "display": null,
            "left": null
          }
        },
        "90244a0a28eb4eb6852be217e0a2cfd8": {
          "model_module": "@jupyter-widgets/controls",
          "model_name": "HTMLModel",
          "model_module_version": "1.5.0",
          "state": {
            "_view_name": "HTMLView",
            "style": "IPY_MODEL_87e6db7151164d2fb72a7d0b8a745f51",
            "_dom_classes": [],
            "description": "",
            "_model_name": "HTMLModel",
            "placeholder": "​",
            "_view_module": "@jupyter-widgets/controls",
            "_model_module_version": "1.5.0",
            "value": " 89%",
            "_view_count": null,
            "_view_module_version": "1.5.0",
            "description_tooltip": null,
            "_model_module": "@jupyter-widgets/controls",
            "layout": "IPY_MODEL_fc0c317da8e54486aae83be356b2dd34"
          }
        },
        "f9f4d93688cd4ea6ad14e5d677a913d5": {
          "model_module": "@jupyter-widgets/controls",
          "model_name": "FloatProgressModel",
          "model_module_version": "1.5.0",
          "state": {
            "_view_name": "ProgressView",
            "style": "IPY_MODEL_6fa96f2c80164e32ba52482b2ada6e3e",
            "_dom_classes": [],
            "description": "",
            "_model_name": "FloatProgressModel",
            "bar_style": "",
            "max": 80,
            "_view_module": "@jupyter-widgets/controls",
            "_model_module_version": "1.5.0",
            "value": 80,
            "_view_count": null,
            "_view_module_version": "1.5.0",
            "orientation": "horizontal",
            "min": 0,
            "description_tooltip": null,
            "_model_module": "@jupyter-widgets/controls",
            "layout": "IPY_MODEL_eefcc4370ef54b55a597bd961e1713aa"
          }
        },
        "6dd045b3e9ef4f78b421a818f890d9c8": {
          "model_module": "@jupyter-widgets/controls",
          "model_name": "HTMLModel",
          "model_module_version": "1.5.0",
          "state": {
            "_view_name": "HTMLView",
            "style": "IPY_MODEL_6b2d447b0aaf421896ec77034d0486f6",
            "_dom_classes": [],
            "description": "",
            "_model_name": "HTMLModel",
            "placeholder": "​",
            "_view_module": "@jupyter-widgets/controls",
            "_model_module_version": "1.5.0",
            "value": " 71/80 [00:00&lt;00:00, 381.11it/s]",
            "_view_count": null,
            "_view_module_version": "1.5.0",
            "description_tooltip": null,
            "_model_module": "@jupyter-widgets/controls",
            "layout": "IPY_MODEL_15265c0a9f0648b685a90f7a478dcd73"
          }
        },
        "87e6db7151164d2fb72a7d0b8a745f51": {
          "model_module": "@jupyter-widgets/controls",
          "model_name": "DescriptionStyleModel",
          "model_module_version": "1.5.0",
          "state": {
            "_view_name": "StyleView",
            "_model_name": "DescriptionStyleModel",
            "description_width": "",
            "_view_module": "@jupyter-widgets/base",
            "_model_module_version": "1.5.0",
            "_view_count": null,
            "_view_module_version": "1.2.0",
            "_model_module": "@jupyter-widgets/controls"
          }
        },
        "fc0c317da8e54486aae83be356b2dd34": {
          "model_module": "@jupyter-widgets/base",
          "model_name": "LayoutModel",
          "model_module_version": "1.2.0",
          "state": {
            "_view_name": "LayoutView",
            "grid_template_rows": null,
            "right": null,
            "justify_content": null,
            "_view_module": "@jupyter-widgets/base",
            "overflow": null,
            "_model_module_version": "1.2.0",
            "_view_count": null,
            "flex_flow": null,
            "width": null,
            "min_width": null,
            "border": null,
            "align_items": null,
            "bottom": null,
            "_model_module": "@jupyter-widgets/base",
            "top": null,
            "grid_column": null,
            "overflow_y": null,
            "overflow_x": null,
            "grid_auto_flow": null,
            "grid_area": null,
            "grid_template_columns": null,
            "flex": null,
            "_model_name": "LayoutModel",
            "justify_items": null,
            "grid_row": null,
            "max_height": null,
            "align_content": null,
            "visibility": null,
            "align_self": null,
            "height": null,
            "min_height": null,
            "padding": null,
            "grid_auto_rows": null,
            "grid_gap": null,
            "max_width": null,
            "order": null,
            "_view_module_version": "1.2.0",
            "grid_template_areas": null,
            "object_position": null,
            "object_fit": null,
            "grid_auto_columns": null,
            "margin": null,
            "display": null,
            "left": null
          }
        },
        "6fa96f2c80164e32ba52482b2ada6e3e": {
          "model_module": "@jupyter-widgets/controls",
          "model_name": "ProgressStyleModel",
          "model_module_version": "1.5.0",
          "state": {
            "_view_name": "StyleView",
            "_model_name": "ProgressStyleModel",
            "description_width": "",
            "_view_module": "@jupyter-widgets/base",
            "_model_module_version": "1.5.0",
            "_view_count": null,
            "_view_module_version": "1.2.0",
            "bar_color": null,
            "_model_module": "@jupyter-widgets/controls"
          }
        },
        "eefcc4370ef54b55a597bd961e1713aa": {
          "model_module": "@jupyter-widgets/base",
          "model_name": "LayoutModel",
          "model_module_version": "1.2.0",
          "state": {
            "_view_name": "LayoutView",
            "grid_template_rows": null,
            "right": null,
            "justify_content": null,
            "_view_module": "@jupyter-widgets/base",
            "overflow": null,
            "_model_module_version": "1.2.0",
            "_view_count": null,
            "flex_flow": null,
            "width": null,
            "min_width": null,
            "border": null,
            "align_items": null,
            "bottom": null,
            "_model_module": "@jupyter-widgets/base",
            "top": null,
            "grid_column": null,
            "overflow_y": null,
            "overflow_x": null,
            "grid_auto_flow": null,
            "grid_area": null,
            "grid_template_columns": null,
            "flex": null,
            "_model_name": "LayoutModel",
            "justify_items": null,
            "grid_row": null,
            "max_height": null,
            "align_content": null,
            "visibility": null,
            "align_self": null,
            "height": null,
            "min_height": null,
            "padding": null,
            "grid_auto_rows": null,
            "grid_gap": null,
            "max_width": null,
            "order": null,
            "_view_module_version": "1.2.0",
            "grid_template_areas": null,
            "object_position": null,
            "object_fit": null,
            "grid_auto_columns": null,
            "margin": null,
            "display": null,
            "left": null
          }
        },
        "6b2d447b0aaf421896ec77034d0486f6": {
          "model_module": "@jupyter-widgets/controls",
          "model_name": "DescriptionStyleModel",
          "model_module_version": "1.5.0",
          "state": {
            "_view_name": "StyleView",
            "_model_name": "DescriptionStyleModel",
            "description_width": "",
            "_view_module": "@jupyter-widgets/base",
            "_model_module_version": "1.5.0",
            "_view_count": null,
            "_view_module_version": "1.2.0",
            "_model_module": "@jupyter-widgets/controls"
          }
        },
        "15265c0a9f0648b685a90f7a478dcd73": {
          "model_module": "@jupyter-widgets/base",
          "model_name": "LayoutModel",
          "model_module_version": "1.2.0",
          "state": {
            "_view_name": "LayoutView",
            "grid_template_rows": null,
            "right": null,
            "justify_content": null,
            "_view_module": "@jupyter-widgets/base",
            "overflow": null,
            "_model_module_version": "1.2.0",
            "_view_count": null,
            "flex_flow": null,
            "width": null,
            "min_width": null,
            "border": null,
            "align_items": null,
            "bottom": null,
            "_model_module": "@jupyter-widgets/base",
            "top": null,
            "grid_column": null,
            "overflow_y": null,
            "overflow_x": null,
            "grid_auto_flow": null,
            "grid_area": null,
            "grid_template_columns": null,
            "flex": null,
            "_model_name": "LayoutModel",
            "justify_items": null,
            "grid_row": null,
            "max_height": null,
            "align_content": null,
            "visibility": null,
            "align_self": null,
            "height": null,
            "min_height": null,
            "padding": null,
            "grid_auto_rows": null,
            "grid_gap": null,
            "max_width": null,
            "order": null,
            "_view_module_version": "1.2.0",
            "grid_template_areas": null,
            "object_position": null,
            "object_fit": null,
            "grid_auto_columns": null,
            "margin": null,
            "display": null,
            "left": null
          }
        },
        "e49dcd3f3e404cf1ac846f632ef28e6d": {
          "model_module": "@jupyter-widgets/controls",
          "model_name": "HBoxModel",
          "model_module_version": "1.5.0",
          "state": {
            "_view_name": "HBoxView",
            "_dom_classes": [],
            "_model_name": "HBoxModel",
            "_view_module": "@jupyter-widgets/controls",
            "_model_module_version": "1.5.0",
            "_view_count": null,
            "_view_module_version": "1.5.0",
            "box_style": "",
            "layout": "IPY_MODEL_241bf926c33a4055a4e47b6d9473d5a2",
            "_model_module": "@jupyter-widgets/controls",
            "children": [
              "IPY_MODEL_34ea53a50a0f4e8393b9580b2682be21",
              "IPY_MODEL_4d894ce97a774829af5a5dabb1a31e53",
              "IPY_MODEL_235ca4870fc94b64b099f079ef80ce9e"
            ]
          }
        },
        "241bf926c33a4055a4e47b6d9473d5a2": {
          "model_module": "@jupyter-widgets/base",
          "model_name": "LayoutModel",
          "model_module_version": "1.2.0",
          "state": {
            "_view_name": "LayoutView",
            "grid_template_rows": null,
            "right": null,
            "justify_content": null,
            "_view_module": "@jupyter-widgets/base",
            "overflow": null,
            "_model_module_version": "1.2.0",
            "_view_count": null,
            "flex_flow": null,
            "width": null,
            "min_width": null,
            "border": null,
            "align_items": null,
            "bottom": null,
            "_model_module": "@jupyter-widgets/base",
            "top": null,
            "grid_column": null,
            "overflow_y": null,
            "overflow_x": null,
            "grid_auto_flow": null,
            "grid_area": null,
            "grid_template_columns": null,
            "flex": null,
            "_model_name": "LayoutModel",
            "justify_items": null,
            "grid_row": null,
            "max_height": null,
            "align_content": null,
            "visibility": null,
            "align_self": null,
            "height": null,
            "min_height": null,
            "padding": null,
            "grid_auto_rows": null,
            "grid_gap": null,
            "max_width": null,
            "order": null,
            "_view_module_version": "1.2.0",
            "grid_template_areas": null,
            "object_position": null,
            "object_fit": null,
            "grid_auto_columns": null,
            "margin": null,
            "display": null,
            "left": null
          }
        },
        "34ea53a50a0f4e8393b9580b2682be21": {
          "model_module": "@jupyter-widgets/controls",
          "model_name": "HTMLModel",
          "model_module_version": "1.5.0",
          "state": {
            "_view_name": "HTMLView",
            "style": "IPY_MODEL_24c96e11c4fe43c4af4c4fe9d0614abe",
            "_dom_classes": [],
            "description": "",
            "_model_name": "HTMLModel",
            "placeholder": "​",
            "_view_module": "@jupyter-widgets/controls",
            "_model_module_version": "1.5.0",
            "value": " 78%",
            "_view_count": null,
            "_view_module_version": "1.5.0",
            "description_tooltip": null,
            "_model_module": "@jupyter-widgets/controls",
            "layout": "IPY_MODEL_16f254a062ef44c2bc141ed99336f9f9"
          }
        },
        "4d894ce97a774829af5a5dabb1a31e53": {
          "model_module": "@jupyter-widgets/controls",
          "model_name": "FloatProgressModel",
          "model_module_version": "1.5.0",
          "state": {
            "_view_name": "ProgressView",
            "style": "IPY_MODEL_917152a7416f4b85be187b4ac3d19110",
            "_dom_classes": [],
            "description": "",
            "_model_name": "FloatProgressModel",
            "bar_style": "",
            "max": 160,
            "_view_module": "@jupyter-widgets/controls",
            "_model_module_version": "1.5.0",
            "value": 160,
            "_view_count": null,
            "_view_module_version": "1.5.0",
            "orientation": "horizontal",
            "min": 0,
            "description_tooltip": null,
            "_model_module": "@jupyter-widgets/controls",
            "layout": "IPY_MODEL_5228617dd26b4788a75dc94919c1e346"
          }
        },
        "235ca4870fc94b64b099f079ef80ce9e": {
          "model_module": "@jupyter-widgets/controls",
          "model_name": "HTMLModel",
          "model_module_version": "1.5.0",
          "state": {
            "_view_name": "HTMLView",
            "style": "IPY_MODEL_6bc66cf64c094ade99c144fce157a41d",
            "_dom_classes": [],
            "description": "",
            "_model_name": "HTMLModel",
            "placeholder": "​",
            "_view_module": "@jupyter-widgets/controls",
            "_model_module_version": "1.5.0",
            "value": " 124/160 [00:00&lt;00:00, 444.87it/s]",
            "_view_count": null,
            "_view_module_version": "1.5.0",
            "description_tooltip": null,
            "_model_module": "@jupyter-widgets/controls",
            "layout": "IPY_MODEL_681d24ad2c4441b893a4f5ae7b9c6bc9"
          }
        },
        "24c96e11c4fe43c4af4c4fe9d0614abe": {
          "model_module": "@jupyter-widgets/controls",
          "model_name": "DescriptionStyleModel",
          "model_module_version": "1.5.0",
          "state": {
            "_view_name": "StyleView",
            "_model_name": "DescriptionStyleModel",
            "description_width": "",
            "_view_module": "@jupyter-widgets/base",
            "_model_module_version": "1.5.0",
            "_view_count": null,
            "_view_module_version": "1.2.0",
            "_model_module": "@jupyter-widgets/controls"
          }
        },
        "16f254a062ef44c2bc141ed99336f9f9": {
          "model_module": "@jupyter-widgets/base",
          "model_name": "LayoutModel",
          "model_module_version": "1.2.0",
          "state": {
            "_view_name": "LayoutView",
            "grid_template_rows": null,
            "right": null,
            "justify_content": null,
            "_view_module": "@jupyter-widgets/base",
            "overflow": null,
            "_model_module_version": "1.2.0",
            "_view_count": null,
            "flex_flow": null,
            "width": null,
            "min_width": null,
            "border": null,
            "align_items": null,
            "bottom": null,
            "_model_module": "@jupyter-widgets/base",
            "top": null,
            "grid_column": null,
            "overflow_y": null,
            "overflow_x": null,
            "grid_auto_flow": null,
            "grid_area": null,
            "grid_template_columns": null,
            "flex": null,
            "_model_name": "LayoutModel",
            "justify_items": null,
            "grid_row": null,
            "max_height": null,
            "align_content": null,
            "visibility": null,
            "align_self": null,
            "height": null,
            "min_height": null,
            "padding": null,
            "grid_auto_rows": null,
            "grid_gap": null,
            "max_width": null,
            "order": null,
            "_view_module_version": "1.2.0",
            "grid_template_areas": null,
            "object_position": null,
            "object_fit": null,
            "grid_auto_columns": null,
            "margin": null,
            "display": null,
            "left": null
          }
        },
        "917152a7416f4b85be187b4ac3d19110": {
          "model_module": "@jupyter-widgets/controls",
          "model_name": "ProgressStyleModel",
          "model_module_version": "1.5.0",
          "state": {
            "_view_name": "StyleView",
            "_model_name": "ProgressStyleModel",
            "description_width": "",
            "_view_module": "@jupyter-widgets/base",
            "_model_module_version": "1.5.0",
            "_view_count": null,
            "_view_module_version": "1.2.0",
            "bar_color": null,
            "_model_module": "@jupyter-widgets/controls"
          }
        },
        "5228617dd26b4788a75dc94919c1e346": {
          "model_module": "@jupyter-widgets/base",
          "model_name": "LayoutModel",
          "model_module_version": "1.2.0",
          "state": {
            "_view_name": "LayoutView",
            "grid_template_rows": null,
            "right": null,
            "justify_content": null,
            "_view_module": "@jupyter-widgets/base",
            "overflow": null,
            "_model_module_version": "1.2.0",
            "_view_count": null,
            "flex_flow": null,
            "width": null,
            "min_width": null,
            "border": null,
            "align_items": null,
            "bottom": null,
            "_model_module": "@jupyter-widgets/base",
            "top": null,
            "grid_column": null,
            "overflow_y": null,
            "overflow_x": null,
            "grid_auto_flow": null,
            "grid_area": null,
            "grid_template_columns": null,
            "flex": null,
            "_model_name": "LayoutModel",
            "justify_items": null,
            "grid_row": null,
            "max_height": null,
            "align_content": null,
            "visibility": null,
            "align_self": null,
            "height": null,
            "min_height": null,
            "padding": null,
            "grid_auto_rows": null,
            "grid_gap": null,
            "max_width": null,
            "order": null,
            "_view_module_version": "1.2.0",
            "grid_template_areas": null,
            "object_position": null,
            "object_fit": null,
            "grid_auto_columns": null,
            "margin": null,
            "display": null,
            "left": null
          }
        },
        "6bc66cf64c094ade99c144fce157a41d": {
          "model_module": "@jupyter-widgets/controls",
          "model_name": "DescriptionStyleModel",
          "model_module_version": "1.5.0",
          "state": {
            "_view_name": "StyleView",
            "_model_name": "DescriptionStyleModel",
            "description_width": "",
            "_view_module": "@jupyter-widgets/base",
            "_model_module_version": "1.5.0",
            "_view_count": null,
            "_view_module_version": "1.2.0",
            "_model_module": "@jupyter-widgets/controls"
          }
        },
        "681d24ad2c4441b893a4f5ae7b9c6bc9": {
          "model_module": "@jupyter-widgets/base",
          "model_name": "LayoutModel",
          "model_module_version": "1.2.0",
          "state": {
            "_view_name": "LayoutView",
            "grid_template_rows": null,
            "right": null,
            "justify_content": null,
            "_view_module": "@jupyter-widgets/base",
            "overflow": null,
            "_model_module_version": "1.2.0",
            "_view_count": null,
            "flex_flow": null,
            "width": null,
            "min_width": null,
            "border": null,
            "align_items": null,
            "bottom": null,
            "_model_module": "@jupyter-widgets/base",
            "top": null,
            "grid_column": null,
            "overflow_y": null,
            "overflow_x": null,
            "grid_auto_flow": null,
            "grid_area": null,
            "grid_template_columns": null,
            "flex": null,
            "_model_name": "LayoutModel",
            "justify_items": null,
            "grid_row": null,
            "max_height": null,
            "align_content": null,
            "visibility": null,
            "align_self": null,
            "height": null,
            "min_height": null,
            "padding": null,
            "grid_auto_rows": null,
            "grid_gap": null,
            "max_width": null,
            "order": null,
            "_view_module_version": "1.2.0",
            "grid_template_areas": null,
            "object_position": null,
            "object_fit": null,
            "grid_auto_columns": null,
            "margin": null,
            "display": null,
            "left": null
          }
        }
      }
    }
  },
  "cells": [
    {
      "cell_type": "markdown",
      "metadata": {
        "id": "view-in-github",
        "colab_type": "text"
      },
      "source": [
        "<a href=\"https://colab.research.google.com/github/Jayaramgokul/NLP-Projects/blob/main/Copy_of_CS4740_FA21_p1.ipynb\" target=\"_parent\"><img src=\"https://colab.research.google.com/assets/colab-badge.svg\" alt=\"Open In Colab\"/></a>"
      ]
    },
    {
      "cell_type": "markdown",
      "metadata": {
        "id": "tMR2in3Elmb0"
      },
      "source": [
        "# Project 1: Language Modeling and Fake Review Classification"
      ]
    },
    {
      "cell_type": "markdown",
      "metadata": {
        "id": "t-ArOW3FXbdT"
      },
      "source": [
        "Names:\n",
        "\n",
        "Netids:\n"
      ]
    },
    {
      "cell_type": "markdown",
      "metadata": {
        "id": "Nw061uMf-vyu"
      },
      "source": [
        "**After you make your own copy, please rename this notebook by clicking on it's name in the upper left corner.** It should be named: CS4740_FA21_p1_netid1_netid2\n",
        "\n",
        "Don't forget to share your newly copied notebook with your partner!"
      ]
    },
    {
      "cell_type": "markdown",
      "metadata": {
        "id": "9e1Dnqk6GmdH"
      },
      "source": [
        "**Reminder: both of you can't work in this notebook at the same time from different computers/browser windows because of sync issues. We even suggest to close the tab with this notebook when you are not working on it so your partner doesn't get sync issues.**\n",
        "\n",
        "---\n",
        "\n"
      ]
    },
    {
      "cell_type": "markdown",
      "metadata": {
        "id": "yVNUIk8d-oBn"
      },
      "source": [
        "## Introduction\n",
        "In this project we will build an **n-gram-based language model** for deceptive review classification. We will also investigate a feature-based **Naive Bayes model**. The task we are faced with is to **decide whether a hotel review is deceptive or truthful**. This is a relavent problem as websites that contain consumer reviews are a target of opinion spam. Typically, these deceptive opinions are neither easily ignored nor even identifiable by a human reader so we'd like to assist in flagging reviews. The dataset we are investigating looks at *deceptive opinion spam*, that is decetive opinions that have been purposely written to sound genuine ([Ott et al](https://arxiv.org/pdf/1107.4557.pdf)).\n",
        "\n",
        "To help us approach this problem, we will use NLP techniques covered thus far to frame this as a (supervised) binary classification task, where each opinion will have a label $y \\in \\{0,1\\}$, where *0 indicates a truthful review* and *1 indicates a deceptive one*. You will train and validate your two different models and then run them on a test data set with hidden $y$ labels. You will then submit the results on the test data set to Kaggle to participate in our class-wide competition!\n",
        "\n",
        "The project is divided into six parts:\n",
        "1. Dataset loading and preprocessing\n",
        "2. Unsmoothed n-gram language model (LM): build the unsmoothed n-gram language model using our Fake Review corpus. \n",
        "3. Smoothed n-gram language model: build a smoothed version of the model from part 2.\n",
        "4. Perplexity: compute perplexity for both the unsmoothed and smoothed model\n",
        "5. Putting everything together and submitting the first model to Kaggle\n",
        "6. Naive Bayes: build a feature-based Naive Bayes model to perform the same classification task. Compare the LM with Naive Bayes and identify the pros and cons of each."
      ]
    },
    {
      "cell_type": "markdown",
      "metadata": {
        "id": "8YxRcxlf1rqT"
      },
      "source": [
        ""
      ]
    },
    {
      "cell_type": "markdown",
      "metadata": {
        "id": "n5dUybGbhQXQ"
      },
      "source": [
        "## Logistics (IMPORTANT!)\n",
        "- You should work in **groups of 2 students**. Students in the same group will get the same grade. Thus, you should make sure that everyone in your group contributes to the project. \n",
        "- **Remember to form groups on BOTH CMS and Gradescope** or not all group members will receive grades. You can use make a post on EdStem to find a partner for this project.\n",
        "- Please complete the written questions of this notebook in a clear and informative way. We have created a template document for you to answer the written questions. This document can be found [here](https://docs.google.com/document/d/11GX5vG8TeHk1F2eakOgbTFaqYl3lfvZf9fYoMUTVGMs/edit?usp=sharing). Please make a copy of this document for yourself and add your names and netids in the header and answer the written questions on it. You will need to submit this document to gradescope as well (do not forget to do this please!).\n",
        "- At the end: please make sure to submit the following 3 items:\n",
        "  1. PDF version of Colab notebook on Gradescope (instructions for converting to PDF are at the end).\n",
        "  2. PDF version of Google Doc with written answers on Gradescope.\n",
        "  3. .ipynb version of your colab notebook on CMS.\n",
        "\n",
        "**Advice:** The written questions is where you get to show us that you understand not only what you are doing but also why and how you are doing it. So be clear, organized and concise; avoid vagueness and excess verbiage. Spend time doing error analysis for the models. This is how you understand the advantages and drawbacks of the systems you build. It's also useful to think about how the theory of n-grams/Naive Bayes bridges with the real world application we are building. Think about what you expect from these models based on your current understanding, and then see if your expectation aligns with empirical results that you'll get. "
      ]
    },
    {
      "cell_type": "markdown",
      "metadata": {
        "id": "HwgqdDbTPVeA"
      },
      "source": [
        "## General Guidelines\n",
        "In this project, we provide a few code snippets or starter points in case you need them. You DO NOT need to follow the structure. \n",
        "\n",
        "If you think you have a better idea, go for it. You can ADD, MODIFY, or DELETE any code snippets given to you.\n",
        "\n",
        "You are expected to use functions or classes to organize your code. A portion of the grade is regarding code cleanliness / readability and applying these models in the real world means we need to collaborate with others (ie. other people should be able to read your code and run it)!\n",
        "\n",
        "To help with debugging and testing, you should use this example from class [09-02 Thurs - lec3: N-gram models](https://edstem.org/us/courses/12801/resources) as your training corpus:\n",
        "\n",
        "```\n",
        "<s> I see what I eat and I eat what I see.\n",
        "```\n",
        "\n",
        "The test sentence you can use also comes from class:\n",
        "```\n",
        "I see what\n",
        "```\n",
        "\n",
        "**Let's do this** 🚀"
      ]
    },
    {
      "cell_type": "markdown",
      "metadata": {
        "id": "LLmJ-2h5pr6n"
      },
      "source": [
        "### Dataset\n",
        "\n",
        "You are given a **Review Corpus** on CMS, which consists of roughly the same amount of real and fake reviews.\n",
        "\n",
        "Real review example:\n",
        "```\n",
        "Stayed with a group for a bachelorette party, and was disappointed. The hotel is beautiful, the staff was all rather friendly. The main problem was the room/sleeping situation. We had booked rooms with 2 queen beds several weeks before, but received an email a few days before our visit stating they were sold out (how that happens I don't know!!) so they \"upgraded\" us to two \"suites\" with a king and a pull out. First, this meant our party was split up and on different floors. Second, that meant two of us were stuck on a pull out couch. :( I'm not a picky, unreasonable person, but that was the WORST \"bed\" I've ever slept on! It was sunken in the middle so we literally rolled into each other unless we balanced ourselves on the very edge of the bed. Then there were the springs poking into our backs ALL night! Just awful! For the amount of money we spent I expected to be comfortable! I would not stay here again after this experience.\n",
        "```\n",
        "\n",
        "Fake review example:\n",
        "```\n",
        "I truly enjoyed my stay at the Omni Chicago Hotel. We stayed in a suite, which was clean and extremely nice, at a very reasonable rate. My husband and I spent quite a bit of time in the indoor pool, but personally I preferred laying out on the sundeck. Service was excellent; they were friendly and all of our needs were met promptly. I would definitely recommend this hotel to anyone looking to have a great experience in the downtown Chicago area.\n",
        "```\n",
        "\n",
        "In the dataset folder you should find 2 files, training and validation splits for both real and fake reviews.\n",
        "\n",
        "The project will proceed generally as follows in terms of code development:\n",
        "1. Write code to train unsmoothed unigram and bigram language models for an arbitrary corpus\n",
        "2. Implement smoothing and unknown word handling. \n",
        "3. Implement the Perplexity calculation. \n",
        "4. Using 1, 2 and 3, together with the provided training and validation sets, develop a language-model-based approach for Fake Review Classification.\n",
        "5. Apply your best language-model-based review classifier (from 4) to the\n",
        "provided test set. Submit the results to the online Kaggle competition. \n",
        "6. Use any existing implementation of Naive Bayes (and the provided training and validation sets) to create an additional Naive Bayes fake review classifier. Apply your best NB classifier to the provided test set. Submit the results to the separate Kaggle competition (for NB classifiers). \n",
        "\n",
        "We will progress towards these tasks throughout this notebook."
      ]
    },
    {
      "cell_type": "markdown",
      "metadata": {
        "id": "b2O1icKLpIdF"
      },
      "source": [
        "# Part 1: Preprocessing the Dataset\n",
        "In this part, you are going to do a few things:\n",
        "* Connect to the google drive where the data set is stored\n",
        "* Load and read files\n",
        "* Preprocess the text\n",
        "\n",
        "------\n",
        "**Please upload the dataset to each partner's individual Google Drive now.** We suggest using the same folder structure within Google Drive because the notebook is shared among you, so the code to load the data would have to be changed every time if folder structures are different. One folder structure might be: Google Drive/CS 4740/Project 1/Dataset/ or whatever works for you. See our code below for an example of how we load the data from Google Drive."
      ]
    },
    {
      "cell_type": "markdown",
      "metadata": {
        "id": "zqJXHkfirHCX"
      },
      "source": [
        "## 1.1 Connect to google drive"
      ]
    },
    {
      "cell_type": "code",
      "metadata": {
        "id": "og--UAtbrP4-",
        "colab": {
          "base_uri": "https://localhost:8080/"
        },
        "outputId": "e9de107b-80f7-465a-d088-b17740ac05b4"
      },
      "source": [
        "from google.colab import drive\n",
        "drive.mount('/content/drive', force_remount=True)"
      ],
      "execution_count": null,
      "outputs": [
        {
          "output_type": "stream",
          "name": "stdout",
          "text": [
            "Mounted at /content/drive\n"
          ]
        }
      ]
    },
    {
      "cell_type": "markdown",
      "metadata": {
        "id": "yspKotLCr8kj"
      },
      "source": [
        "## 1.2 Load and read files\n",
        "First, let's install [NLTK](https://www.nltk.org/), a very widely package for NLP preprocessing (and other tasks) for Python."
      ]
    },
    {
      "cell_type": "code",
      "metadata": {
        "id": "HyUwo9CthoiW",
        "colab": {
          "base_uri": "https://localhost:8080/",
          "height": 464
        },
        "outputId": "9fdafb38-d06f-4ee9-b616-d4ea1d4a9072"
      },
      "source": [
        "!pip install -U nltk tqdm"
      ],
      "execution_count": null,
      "outputs": [
        {
          "output_type": "stream",
          "name": "stdout",
          "text": [
            "Requirement already satisfied: nltk in /usr/local/lib/python3.7/dist-packages (3.2.5)\n",
            "Collecting nltk\n",
            "  Downloading nltk-3.6.3-py3-none-any.whl (1.5 MB)\n",
            "\u001b[K     |████████████████████████████████| 1.5 MB 2.7 MB/s \n",
            "\u001b[?25hRequirement already satisfied: tqdm in /usr/local/lib/python3.7/dist-packages (4.62.2)\n",
            "Collecting tqdm\n",
            "  Downloading tqdm-4.62.3-py2.py3-none-any.whl (76 kB)\n",
            "\u001b[K     |████████████████████████████████| 76 kB 4.2 MB/s \n",
            "\u001b[?25hRequirement already satisfied: click in /usr/local/lib/python3.7/dist-packages (from nltk) (7.1.2)\n",
            "Requirement already satisfied: joblib in /usr/local/lib/python3.7/dist-packages (from nltk) (1.0.1)\n",
            "Requirement already satisfied: regex in /usr/local/lib/python3.7/dist-packages (from nltk) (2019.12.20)\n",
            "Installing collected packages: tqdm, nltk\n",
            "  Attempting uninstall: tqdm\n",
            "    Found existing installation: tqdm 4.62.2\n",
            "    Uninstalling tqdm-4.62.2:\n",
            "      Successfully uninstalled tqdm-4.62.2\n",
            "  Attempting uninstall: nltk\n",
            "    Found existing installation: nltk 3.2.5\n",
            "    Uninstalling nltk-3.2.5:\n",
            "      Successfully uninstalled nltk-3.2.5\n",
            "Successfully installed nltk-3.6.3 tqdm-4.62.3\n"
          ]
        },
        {
          "output_type": "display_data",
          "data": {
            "application/vnd.colab-display-data+json": {
              "pip_warning": {
                "packages": [
                  "nltk",
                  "tqdm"
                ]
              }
            }
          },
          "metadata": {}
        }
      ]
    },
    {
      "cell_type": "markdown",
      "metadata": {
        "id": "UNdLcCH9hpYX"
      },
      "source": [
        "Then we read and load data."
      ]
    },
    {
      "cell_type": "code",
      "metadata": {
        "id": "CDIzMEQ0sMqK",
        "colab": {
          "base_uri": "https://localhost:8080/",
          "height": 50,
          "referenced_widgets": [
            "73f66bb9052a440a95acb349b686e0aa",
            "8d5de578459c47a293a6d3f64c98c4e6",
            "37b0a80d2c524fbc9ed2e7f600829767",
            "c674bb0512554ba98318d82beb0f9a35",
            "50991771bfd248fa8acae97554710f4e",
            "e062d33de9e1432eb09e1b6a2c647162",
            "df39108131314dff9dc2fb73b5db1c95",
            "a1590f21246e43dd960e7e7ca318c8f3",
            "637500a963f449f2b6e03d055afed1a4",
            "55ed81e6baf4451fa418a4a0056e541e",
            "65b1839055804a4984ba7b74162cdcce",
            "98f2754001dc4f7298c5448835050e6a",
            "e8ee9fa75ea44a49b814f013b08a410c",
            "95efb41f463142bbaeae458c334cc2d9",
            "3e54d280f8344911a8d04a33fadca897",
            "c89a012a80344c1489ad8e3862f19506",
            "5e558187fba541c285aafd24593f3597",
            "17152d11a3ce4c00a01079b7ef053d66",
            "7911741e70f34134974d6efe9e8bef7a",
            "33ca6a65a30a4ef3964bef84da1faef9",
            "f773a2a98e564d4799d667b0b41800b2",
            "beb77585bac94596ba6c3857b1970644",
            "9d569f2bab6849e78c22a261a7695648",
            "2bb50e11a3c74661b0597a2b23c2679a",
            "64c606210d93427ab74dd0b00ba7df5a",
            "69d4534b5359481c9ec7f8bbac09b49a",
            "720d49ff116c465e84a8fe1a9dfdc902",
            "05ad3705dae445a099d93585ef93294b",
            "8c8fa57f475b4db08ffe66dcada68aee",
            "afbfc762125544dcb9443e8777d434c8",
            "49b9a59b42b941858249d3480f0bc156",
            "d1b4334fead443aaa934d738368bfaf6",
            "815e79c1b3264cd28dedbfa005260779",
            "6537e4fcad5841dd9a7795be3dde8c48",
            "055cec3cca96441bb1e94fe3cb8c5b32",
            "90244a0a28eb4eb6852be217e0a2cfd8",
            "f9f4d93688cd4ea6ad14e5d677a913d5",
            "6dd045b3e9ef4f78b421a818f890d9c8",
            "87e6db7151164d2fb72a7d0b8a745f51",
            "fc0c317da8e54486aae83be356b2dd34",
            "6fa96f2c80164e32ba52482b2ada6e3e",
            "eefcc4370ef54b55a597bd961e1713aa",
            "6b2d447b0aaf421896ec77034d0486f6",
            "15265c0a9f0648b685a90f7a478dcd73",
            "e49dcd3f3e404cf1ac846f632ef28e6d",
            "241bf926c33a4055a4e47b6d9473d5a2",
            "34ea53a50a0f4e8393b9580b2682be21",
            "4d894ce97a774829af5a5dabb1a31e53",
            "235ca4870fc94b64b099f079ef80ce9e",
            "24c96e11c4fe43c4af4c4fe9d0614abe",
            "16f254a062ef44c2bc141ed99336f9f9",
            "917152a7416f4b85be187b4ac3d19110",
            "5228617dd26b4788a75dc94919c1e346",
            "6bc66cf64c094ade99c144fce157a41d",
            "681d24ad2c4441b893a4f5ae7b9c6bc9"
          ]
        },
        "outputId": "ee38684c-ea00-4e8b-a5f1-f0becb85add8"
      },
      "source": [
        "import os\n",
        "import csv\n",
        "import io\n",
        "from nltk import word_tokenize, sent_tokenize\n",
        "import nltk\n",
        "from tqdm.notebook import tqdm\n",
        "nltk.download('punkt')\n",
        "\n",
        "root_path = os.path.join(os.getcwd(), \"drive\", \"My Drive/NLP Project\") \n",
        "dataset_path = os.path.join(root_path) # same here\n",
        "\n",
        "real_review_train = []\n",
        "real_review_validation = []\n",
        "fake_review_train = []\n",
        "fake_review_validation = []\n",
        "\n",
        "def load_real_fake_dataset(dataset_path, filename):\n",
        "    real = []\n",
        "    fake = []\n",
        "    with open(os.path.join(dataset_path, filename)) as fp:\n",
        "        csvreader = csv.reader(fp, delimiter=\"|\")\n",
        "        for txt, label in csvreader:\n",
        "            label = int(label)\n",
        "            if label:\n",
        "                fake.append(txt)\n",
        "            else:\n",
        "                real.append(txt)\n",
        "    \n",
        "    return real, fake\n",
        "\n",
        "real_review_train, fake_review_train = load_real_fake_dataset(dataset_path, \"P1_real_fake_review_train.txt\")\n",
        "\n",
        "real_review_validation, fake_review_validation = load_real_fake_dataset(dataset_path, \"P1_real_fake_review_val.txt\")\n",
        "\n",
        "def load_test_dataset(dataset_path, filename):\n",
        "    output = []\n",
        "    with open(os.path.join(dataset_path, filename)) as fp:\n",
        "        csvreader = csv.reader(fp, delimiter=\" \")\n",
        "        for id, text in csvreader:\n",
        "          output.append(text)\n",
        "    output.pop(0)\n",
        "    return output\n",
        "f_test = load_test_dataset(dataset_path,\"P1_real_fake_review_test.txt\" )\n",
        "\n",
        "def tokenize_reviews(reviews):\n",
        "    return [\n",
        "        [\n",
        "            word.lower() for sent in sent_tokenize(review)\n",
        "            for word in word_tokenize(sent)\n",
        "        ]\n",
        "        for review in tqdm(reviews, leave=False)\n",
        "    ]\n",
        "\n",
        "\n",
        "tokenized_real_review_training = tokenize_reviews(real_review_train)                              # Tokenizing our real review training data\n",
        "tokenized_fake_review_training = tokenize_reviews(fake_review_train)                              # Tokenizing our fake review training data\n",
        "tokenized_review_training = tokenized_real_review_training + tokenized_fake_review_training       # Combining our tokenized real and fake review training data\n",
        "tokenized_real_review_validation = tokenize_reviews(real_review_validation)                       # Tokenizing our real review validation data\n",
        "tokenized_fake_review_validation = tokenize_reviews(fake_review_validation)                       # Tokenizing our fake review validation data\n",
        "tokenized_review_validation = tokenized_real_review_validation + tokenized_fake_review_validation # Combining our tokenized real and fake review validation data\n",
        "tokenized_review_test = tokenize_reviews(f_test)                                                  # Tokenizing our fake review training data"
      ],
      "execution_count": null,
      "outputs": [
        {
          "output_type": "stream",
          "name": "stdout",
          "text": [
            "[nltk_data] Downloading package punkt to /root/nltk_data...\n",
            "[nltk_data]   Package punkt is already up-to-date!\n"
          ]
        },
        {
          "output_type": "display_data",
          "data": {
            "application/vnd.jupyter.widget-view+json": {
              "model_id": "73f66bb9052a440a95acb349b686e0aa",
              "version_minor": 0,
              "version_major": 2
            },
            "text/plain": [
              "  0%|          | 0/642 [00:00<?, ?it/s]"
            ]
          },
          "metadata": {}
        },
        {
          "output_type": "display_data",
          "data": {
            "application/vnd.jupyter.widget-view+json": {
              "model_id": "98f2754001dc4f7298c5448835050e6a",
              "version_minor": 0,
              "version_major": 2
            },
            "text/plain": [
              "  0%|          | 0/638 [00:00<?, ?it/s]"
            ]
          },
          "metadata": {}
        },
        {
          "output_type": "display_data",
          "data": {
            "application/vnd.jupyter.widget-view+json": {
              "model_id": "9d569f2bab6849e78c22a261a7695648",
              "version_minor": 0,
              "version_major": 2
            },
            "text/plain": [
              "  0%|          | 0/80 [00:00<?, ?it/s]"
            ]
          },
          "metadata": {}
        },
        {
          "output_type": "display_data",
          "data": {
            "application/vnd.jupyter.widget-view+json": {
              "model_id": "6537e4fcad5841dd9a7795be3dde8c48",
              "version_minor": 0,
              "version_major": 2
            },
            "text/plain": [
              "  0%|          | 0/80 [00:00<?, ?it/s]"
            ]
          },
          "metadata": {}
        },
        {
          "output_type": "display_data",
          "data": {
            "application/vnd.jupyter.widget-view+json": {
              "model_id": "e49dcd3f3e404cf1ac846f632ef28e6d",
              "version_minor": 0,
              "version_major": 2
            },
            "text/plain": [
              "  0%|          | 0/160 [00:00<?, ?it/s]"
            ]
          },
          "metadata": {}
        }
      ]
    },
    {
      "cell_type": "markdown",
      "metadata": {
        "id": "miP2sevQbPbs"
      },
      "source": [
        "Sanity checks for our real and fake training sets"
      ]
    },
    {
      "cell_type": "code",
      "metadata": {
        "id": "BP8TzVmBj95T"
      },
      "source": [
        "tokenized_real_review_training[0]"
      ],
      "execution_count": null,
      "outputs": []
    },
    {
      "cell_type": "code",
      "metadata": {
        "id": "-8K3DBwDmenY"
      },
      "source": [
        "tokenized_fake_review_training[0]"
      ],
      "execution_count": null,
      "outputs": []
    },
    {
      "cell_type": "code",
      "metadata": {
        "id": "j-U6UBXFSbQG"
      },
      "source": [
        "tokenized_review_training[0]"
      ],
      "execution_count": null,
      "outputs": []
    },
    {
      "cell_type": "markdown",
      "metadata": {
        "id": "fXjHzoZ6T9VK"
      },
      "source": [
        "## 1.2.5 Creating a labelled table"
      ]
    },
    {
      "cell_type": "code",
      "metadata": {
        "id": "S0ukIrPFQSmz"
      },
      "source": [
        "# ****  FUNCTION - lbltble(rvw,label=0) *******\n",
        "'''\n",
        "Purpose:\n",
        "To create a table with reviews column and indicator column for \"real or \"fake\" reviews  \n",
        "\n",
        "Arguments:\n",
        "rvw: list of reviews\n",
        "label: indicator value we wish to assign to a column  of the table\n",
        "\n",
        "Returns:\n",
        "A final table with review and indicator column differentiating the \"real \" and \"fake\" reviews\n",
        "\n",
        "'''\n",
        "\n",
        "def lbltble(rvw,label=0): \n",
        "  import pandas as pd\n",
        "  df_review = pd.DataFrame(rvw, columns = [\"Review\"])                           # Creating a \"Review\" colum in our dataframe\n",
        "  df_review[\"y\"]=label                                                          # Labelling our reviews\n",
        "  return df_review "
      ],
      "execution_count": null,
      "outputs": []
    },
    {
      "cell_type": "code",
      "metadata": {
        "id": "8QYMGcdKUbBp"
      },
      "source": [
        "# Our true and fake training reviews constructed in tables\n",
        "df_real_review_train= lbltble(real_review_train,0)\n",
        "df_fake_review_train = lbltble(fake_review_train,1)\n",
        "\n",
        "# Our true and fake validation reviews constructed in tables\n",
        "df_real_review_valid = lbltble(real_review_validation,0)\n",
        "df_fake_review_valid = lbltble(fake_review_validation,1)\n",
        "\n",
        "# Our test reviews constructed in tables\n",
        "df_test_review = lbltble(f_test)"
      ],
      "execution_count": null,
      "outputs": []
    },
    {
      "cell_type": "code",
      "metadata": {
        "id": "BdK7uFcpU_v0"
      },
      "source": [
        "# Combined (true and fake) review trainig & validation data\n",
        "import pandas as pd\n",
        "\n",
        "df_review_train = pd.concat([df_real_review_train,df_fake_review_train], axis=0).reset_index(drop=True)\n",
        "df_review_valid = pd.concat([df_real_review_valid,df_fake_review_valid], axis=0).reset_index(drop=True)\n",
        "\n",
        "  "
      ],
      "execution_count": null,
      "outputs": []
    },
    {
      "cell_type": "markdown",
      "metadata": {
        "id": "0OQ6Oj-PVqri"
      },
      "source": [
        "Sanity checks for our real and fake training table datasets"
      ]
    },
    {
      "cell_type": "markdown",
      "metadata": {
        "id": "ok_0NzjkDrde"
      },
      "source": [
        "## 1.3 Data Preprocessing & Preparation\n",
        "\n",
        "There's a well-known parable in machine learning that 80% of the work is all about data preparation, 10% is supporting infrastructure and 10% is actual modeling. If your \"raw\" dataset is not preprocessed and prepared in a way to maximize its value, then your model will be more like this: https://xkcd.com/1838/. For this project, modeling is the star of the show for learning purposes, but we still want you to pay attention to the preprocessing stage.\n",
        "\n",
        "*We've already tokenized and lowercased* the raw data for you. We have not added a start of sentence token but feel free to do so (it is not neccessary). Here are a few extra things you might want to do:\n",
        "\n",
        "- Think about edge cases. For example, you don't want to accidentally append a period to the last word of a sentence. \n",
        "- Watch out for apostrophes and other tricky things like quotations, they cause lots of edge cases. For example, \"they're\" can be all one token, or two tokens (\"they\", \"'re\") or even three tokens (\"they\", \" ' \", \"re\"). \n",
        "\n",
        "Why did we lowercase all tokens? Because the computer will otherwise consider \"The\" and \"the\" as two separate words and this will cause problems.\n",
        "\n",
        "Note that you may use existing\n",
        "tools just for the purpose of preprocessing. \n",
        "\n",
        "Advice: don't get bugged down in the dozens of preprocessing packages and suggestions that you can find on Towards Data Science or Stack Overflow. Start with this [NLTK tutorial](https://lost-contact.mit.edu/afs/cs.pitt.edu/projects/nltk/docs/tutorial/introduction/nochunks.html#:~:text=The%20Natural%20Language%20Toolkit%20(NLTK,tokenization%2C%20tagging%2C%20and%20parsing.) and that should be plenty."
      ]
    },
    {
      "cell_type": "code",
      "metadata": {
        "id": "Pf2phKs8bvaB"
      },
      "source": [
        "\n",
        "# ****  FUNCTION - rmvspchr_reviews(tknzd_rev)  *******\n",
        "'''\n",
        "Purpose:\n",
        "Remove the non alphabetics tokens\n",
        "\n",
        "Arguments:\n",
        "tknzd_rev: tokenized text\n",
        "\n",
        "Returns:\n",
        "tokenized text without elements in our pre-defined non alphabetics list\n",
        "\n",
        "'''\n",
        "def rmvspchr_reviews(tknzd_rev):\n",
        "    special_char = [\"(\", \")\", \".\", \",\", \"..\",\"...\",\"....\",\"''\",\":\",\"`\",\"``\",\"```\",\"-\",\"--\",\"_\",\"__\",\";\",\"_ _\",\"[\",\"]\"]  # Special characters to be removed from our list\n",
        "    for idx, text in enumerate(tknzd_rev):\n",
        "      for word in text:\n",
        "        if word in special_char:\n",
        "          tknzd_rev[idx].remove(word)                                                                                   # Removing the special characters from our input list                          \n",
        "    return tknzd_rev\n",
        "\n",
        "# ****  FUNCTION - freq_wrd(tknzd_rvw, n)  *******\n",
        "'''\n",
        "Purpose:\n",
        "Remove the stop words\n",
        "\n",
        "Arguments:\n",
        "tknzd_rev: tokenized text\n",
        "\n",
        "Returns:\n",
        "tokenized text without elements the stopwords package from nltk.corpus\n",
        "\n",
        "'''\n",
        "def rmv_stpwor(tknzd_rev):\n",
        "  from nltk.corpus import stopwords                                                       # Importing the stopwords from NLTK library\n",
        "  nltk.download('stopwords')\n",
        "  stop_words = set(stopwords.words('english'))\n",
        "  p = [[t for t in q if t not in stop_words] for q in tknzd_rev]                          # Removing all such stop words from the list\n",
        "  return p"
      ],
      "execution_count": null,
      "outputs": []
    },
    {
      "cell_type": "markdown",
      "metadata": {
        "id": "IEab9h6xpuhx"
      },
      "source": [
        "**Q1.1: Show some observations or statistics from the dataset** (should be quantitative – i.e. most frequent words, most frequent bigram, etc.) You may do the computations for your graphs/statistics on the colab notebook, however, please mmake sure you transfer all your work (statistics, graphs, snapshots of thh code if needed) to the Google Doc!\n",
        "\n",
        "Please answer on your writeup doc!"
      ]
    },
    {
      "cell_type": "code",
      "metadata": {
        "id": "9MQq0uNnqWmR",
        "colab": {
          "base_uri": "https://localhost:8080/"
        },
        "outputId": "be0d5458-7ccc-4337-a0b8-6d1294d9ad05"
      },
      "source": [
        "# **********************  CLASS - stats_disp  ************************************\n",
        "\n",
        "'''\n",
        "Purpose:\n",
        "Show some observations or statistics from the dataset. \n",
        "\n",
        "Has the following functions to help with the same:\n",
        "1. unigram_dic(lst) - to generate a unigram words count dictionary\n",
        "2. bigram_dic(lst) - \n",
        "3. freq_wrd(tknzd_rvw, n) - to display frequency based statistics via histogram plots\n",
        "4. num_stat() - to display numerical statistics of the data used in this project\n",
        "'''\n",
        "import matplotlib.pyplot as plt\n",
        "import numpy as np\n",
        "import nltk\n",
        "nltk.download(\"stopwords\")\n",
        "from nltk.corpus import stopwords\n",
        "\n",
        "class stats_disp:\n",
        "\n",
        "  # ****  FUNCTION - unigram_dic(lst)  *******\n",
        "  '''\n",
        "  Purpose:\n",
        "  Generate a dictionary to store unigram words and counts, and used to \n",
        "  calculate he unigram/bigram probabilities.\n",
        "\n",
        "  Arguments:\n",
        "  lst: input list of corpus\n",
        "\n",
        "  Returns:\n",
        "  A dictionary of unigram words and count\n",
        "  ---{Key : Count}\n",
        "\n",
        "  '''\n",
        "  def unigram_dic(self,lst):\n",
        "        unigrams={}\n",
        "        lst = rmv_stpwor(rmvspchr_reviews(lst))  \n",
        "        for l in lst:\n",
        "          for i in range(len(l)): \n",
        "              if l[i] in unigrams:\n",
        "                  unigrams[l[i]] += 1\n",
        "              else:\n",
        "                  unigrams[l[i]] = 1\n",
        "        return unigrams\n",
        "\n",
        "  # ****  FUNCTION - bigram_dic(lst)  *******\n",
        "  '''\n",
        "  Purpose:\n",
        "  Calculate the bigram tuple counts and store into a dictionary\n",
        "\n",
        "  Arguments:\n",
        "  lst: input list of corpus\n",
        "\n",
        "  Returns:\n",
        "  A bigram dictionary of words tuple and probability\n",
        "  ---{Tuple : Count}\n",
        "\n",
        "  '''\n",
        "  def bigram_dic(self,lst):\n",
        "      bidic={}\n",
        "      lst = rmv_stpwor(rmvspchr_reviews(lst))\n",
        "      for l in lst:\n",
        "        for i in range(len(l) - 1):\n",
        "          temp = (l[i], l[i+1]) \n",
        "        if not temp in bidic:\n",
        "            bidic[temp] = 1\n",
        "        else:\n",
        "            bidic[temp] += 1\n",
        "      return bidic  \n",
        "\n",
        "  # ****  FUNCTION - freq_wrd(tknzd_rvw, n)  *******\n",
        "\n",
        "  '''\n",
        "  Purpose:\n",
        "  Show some observations or statistics from the dataset. Basically to show the most\n",
        "  frequent unigram words and bigram words as well as histograms\n",
        "\n",
        "  Arguments:\n",
        "  tknzd_rvw: tokenized text after data pre-processing\n",
        "  n: first N unigram words/bigram words sorted from highest to lowest frequency\n",
        "\n",
        "  Returns:\n",
        "  Plot bar graphs to show the frequencys for unigram and bigram words\n",
        "  '''\n",
        "\n",
        "  def freq_wrd(self,tknzd_rvw, n, ngram):\n",
        "        if ngram ==\"unigram\":\n",
        "          dic = self.unigram_dic(tknzd_rvw)                                                                 # Creating a unigram dictionary from the list of tokens\n",
        "        elif ngram ==\"bigram\":\n",
        "          dic = self.bigram_dic(tknzd_rvw)                                                                  # Creating a bigram dictionary from the list of tokens\n",
        "        sort_dic=dict(sorted(dic.items(), key=lambda item: item[1], reverse=True))                          # Sorting the dictionary based on the values in descsending order\n",
        "        res_uni = dict(list(sort_dic.items())[0: n])                                                        # Trimming dictionary to retain only the first n items\n",
        "        plt.title(\"Most Frequent {0} words in training data\".format(ngram),fontdict = {'fontsize' : 20})\n",
        "        plt.rcParams[\"figure.figsize\"] = (20, 20)                                                           # Adjusting fig size to 80 by 80 dimensions\n",
        "        plt.bar([str(i) for i in res_uni.keys()], res_uni.values())                                         # X axis tick labels\n",
        "        plt.xticks(fontsize=20)\n",
        "        plt.yticks(fontsize=20)\n",
        "        plt.show()\n",
        "\n",
        "  def num_stats(self,tknzd_rvw):\n",
        "        sents = nltk.sent_tokenize(str(tknzd_rvw))                                                          # Tokenizing our review list into sentences\n",
        "        print(\"The number of sentences is\", len(sents))\n",
        "        words = nltk.word_tokenize(str(tknzd_rvw))                                                          # Tokenizing our review list into words\n",
        "        print(\"The number of tokens is\", len(words))\n",
        "        average_tokens = round(len(words)/len(sents))\n",
        "        print(\"The average number of tokens per sentence is\",average_tokens)\n",
        "        word_type = set(words)                                                                              # Creating a unique list of words\n",
        "        print(\"The number of word types are\", len(word_type))\n",
        "        stop_words = set(stopwords.words('english'))\n",
        "        final_tokens = []\n",
        "        for each in words:\n",
        "          if each not in stop_words:\n",
        "            final_tokens.append(each)\n",
        "        print(\"The number of total tokens after removing stopwords are\", len((final_tokens)))"
      ],
      "execution_count": null,
      "outputs": [
        {
          "output_type": "stream",
          "name": "stdout",
          "text": [
            "[nltk_data] Downloading package stopwords to /root/nltk_data...\n",
            "[nltk_data]   Package stopwords is already up-to-date!\n"
          ]
        }
      ]
    },
    {
      "cell_type": "markdown",
      "metadata": {
        "id": "arkLyv5iPKO2"
      },
      "source": [
        "Important statistics about the training data is mentioned below :"
      ]
    },
    {
      "cell_type": "code",
      "metadata": {
        "colab": {
          "base_uri": "https://localhost:8080/"
        },
        "id": "qms7K61kQcv_",
        "outputId": "6c52d757-2c6e-4924-a4be-d7ed0850e4f8"
      },
      "source": [
        "stat_displayer = stats_disp()                                                                             # Instantiating the stats_display class\n",
        "stat_displayer.num_stats(tokenized_review_training)                                                       # Displaying statistics for tokens"
      ],
      "execution_count": null,
      "outputs": [
        {
          "output_type": "stream",
          "name": "stdout",
          "text": [
            "The number of sentences is 1514\n",
            "The number of tokens is 588838\n",
            "The average number of tokens per sentence is 389\n",
            "The number of word types are 9336\n",
            "The number of total tokens after removing stopwords are 588838\n"
          ]
        }
      ]
    },
    {
      "cell_type": "markdown",
      "metadata": {
        "id": "ooP8il8RQmZf"
      },
      "source": [
        "Unigram & Bigram frequency count is plotted below:\n",
        "\n",
        "\n",
        "\n",
        "\n"
      ]
    },
    {
      "cell_type": "code",
      "metadata": {
        "colab": {
          "base_uri": "https://localhost:8080/",
          "height": 1000
        },
        "id": "YOpBO3iEQ3Fb",
        "outputId": "8ee34370-0224-4dd4-f7ff-d868733225a5"
      },
      "source": [
        "stat_displayer.freq_wrd(tokenized_review_training,15,\"unigram\")"
      ],
      "execution_count": null,
      "outputs": [
        {
          "output_type": "stream",
          "name": "stdout",
          "text": [
            "[nltk_data] Downloading package stopwords to /root/nltk_data...\n",
            "[nltk_data]   Package stopwords is already up-to-date!\n"
          ]
        },
        {
          "output_type": "display_data",
          "data": {
            "image/png": "[encoded data removed]",
            "text/plain": [
              "<Figure size 2880x2880 with 1 Axes>"
            ]
          },
          "metadata": {
            "needs_background": "light"
          }
        }
      ]
    },
    {
      "cell_type": "code",
      "metadata": {
        "colab": {
          "base_uri": "https://localhost:8080/",
          "height": 1510
        },
        "id": "784MPBbspJOK",
        "outputId": "6c563992-65c7-42c3-8ad5-1583b36bbe8d"
      },
      "source": [
        "stat_displayer.freq_wrd(tokenized_review_training,15,\"bigram\")"
      ],
      "execution_count": null,
      "outputs": [
        {
          "output_type": "stream",
          "name": "stdout",
          "text": [
            "[nltk_data] Downloading package stopwords to /root/nltk_data...\n",
            "[nltk_data]   Package stopwords is already up-to-date!\n"
          ]
        },
        {
          "output_type": "display_data",
          "data": {
            "image/png": "[encoded data removed]",
            "text/plain": [
              "<Figure size 2880x2880 with 1 Axes>"
            ]
          },
          "metadata": {
            "needs_background": "light"
          }
        }
      ]
    },
    {
      "cell_type": "markdown",
      "metadata": {
        "id": "rcw8M5nesOQD"
      },
      "source": [
        "**Please answer the following question**:\n",
        "\n",
        "**Q1.2: What did you do in your preprocessing part?**\n",
        "\n",
        "Example answer format:\n",
        "\n",
        "A: We tokenized and lowercased all the words."
      ]
    },
    {
      "cell_type": "markdown",
      "metadata": {
        "id": "zQVi0l76MBcs"
      },
      "source": [
        "Please answer on your writeup doc!"
      ]
    },
    {
      "cell_type": "markdown",
      "metadata": {
        "id": "d8oo9zHrsYBD"
      },
      "source": [
        "# Part 2: Compute Unsmoothed Language Models.\n",
        "\n",
        "To start, you will write a program that computes unsmoothed unigram and bigram probabilities. You should consider real and deceptive reviews as separate corpora and\n",
        "generate a separate language model for each set of reviews.\n",
        "We have already loaded the data and (partially) preprocessed it and you probably did some of your own preprocessing. \n",
        "\n",
        "Note that you were allowed to use existing\n",
        "tools for the purpose of preprocessing, but you must write the code for gathering n-gram counts and computing n-gram probabilities yourself. \n",
        "\n",
        "For example, consider the\n",
        "simple corpus consisting of the sole sentence:\n",
        "\n",
        "\n",
        "> the students liked the class\n",
        "\n",
        "Part of what your program would compute for a unigram and bigram model, for example,\n",
        "would be the following:\n",
        "\n",
        "\n",
        "> $P(\"the\") = 0.4; P(\"liked\") = 0.2; P(\"the\"|\"liked\") = 1.0; P(\"students\"|\"the\") = 0.5$\n",
        "\n",
        "Remember to add a symbol to mark the beginning of sentence. See Sept. 2nd lecture, p25-28 for an example.\n",
        "\n",
        "\n"
      ]
    },
    {
      "cell_type": "markdown",
      "metadata": {
        "id": "IgdpbCKw8B0r"
      },
      "source": [
        "**Advice**: jupyter notebooks (including colab) can be a double-edged sword. It's amazing and liberating to just start writing code and run it by simply running a cell. However, it gets messy very quickly. So, once you're done prototyping, you should be using functions (classes may be unnecessary but go for it if you want) to make things cleaner and easier to debug."
      ]
    },
    {
      "cell_type": "markdown",
      "metadata": {
        "id": "MqkMkZIkst8i"
      },
      "source": [
        "## 2.1 Unsmoothed Uni-gram Model.\n",
        "\n",
        "In this part of the project, you are trying to compute the probabilities for a unigram model. You might want to take in a list of words, and return the probabilities for each\n",
        "occurence. Think of an efficient data structure to use here given what ratio of reads and puts you expect.\n",
        "\n",
        "Please look at the example above and consider how we get the probabilities.\n",
        "\n",
        "Below is a starter point you can go from, but you DO NOT need to stick it. Feel free to use your own design."
      ]
    },
    {
      "cell_type": "code",
      "metadata": {
        "id": "dU-g9Ge5_DA4"
      },
      "source": [
        "import pandas as pd\n",
        "\n",
        "# ****  FUNCTION - unsmoothed_unigram_dic(lst)  *******\n",
        "\n",
        "'''\n",
        "Purpose:\n",
        "Generate a dictionary to store unigram words and counts, and used to \n",
        "calculate he unigram/bigram probabilities.\n",
        "\n",
        "Arguments:\n",
        "lst: input list of corpus\n",
        "\n",
        "Returns:\n",
        "A dictionary of unigram words and count\n",
        "---{Key : Count}\n",
        "\n",
        "'''\n",
        "\n",
        "def unsmoothed_unigram_dic(lst):\n",
        "  unigrams={}                                                                   # Moving through every position in our list of list of words\n",
        "  for l in lst:\n",
        "    for i in range(len(l)): \n",
        "        if l[i] in unigrams:\n",
        "            unigrams[l[i]] += 1                                                 # Incrementing the unigram dictionary values for every word found \n",
        "        else:\n",
        "            unigrams[l[i]] = 1\n",
        "  return unigrams\n",
        "\n",
        "# ****  FUNCTION - unsmoothed_unigram_prob(lst, unigram_dic)  *******\n",
        "\n",
        "'''\n",
        "Purpose:\n",
        "Calculate the probability of unigram words and store into a dictionary\n",
        "\n",
        "Arguments:\n",
        "lst: input list of corpus\n",
        "unigram_dic: the dictionary of unigram words and count\n",
        "\n",
        "Returns:\n",
        "A separate unigram dictionary of words and probability\n",
        "---{Key : Probability}\n",
        "'''\n",
        "\n",
        "def unsmoothed_unigram_prob(lst, unigram_dic):\n",
        "  deno_cnst = sum(unigram_dic.values()) \n",
        "  for key, value in unigram_dic.items():                                        # Traversing through key value pairs in the unigram dictionary\n",
        "    # do something with value\n",
        "        unigram_dic[key] = unigram_dic[key]/(deno_cnst)                         # Generating the unigram probability based on the unigram count from the unigram dictionary and total no of words in our list\n",
        "  return unigram_dic\n"
      ],
      "execution_count": null,
      "outputs": []
    },
    {
      "cell_type": "markdown",
      "metadata": {
        "id": "cuyn_xPjs4TR"
      },
      "source": [
        "## 2.2 Unsmoothed Bi-gram Model.\n",
        "\n",
        "In this part of the project, you are trying to compute the probabilities for a bigram model. You can approach this with similar methods as above.\n",
        "\n",
        "Remember the definition:\n",
        "$p(w_n\\mid w_{n-1})=\\frac{C(w_{n-1}w_n)}{C(w_{n-1})}$ this means you might want to store two things (count of $w_{n-1}$ and count of $w_{n-1}w_n$)."
      ]
    },
    {
      "cell_type": "code",
      "metadata": {
        "id": "lT6269WU_BBT"
      },
      "source": [
        "import pandas as pd\n",
        "\n",
        "# ****  FUNCTION - unsmoothed_bigram_dic(lst)  *******\n",
        "\n",
        "'''\n",
        "Purpose:\n",
        "Calculate the bigram tuple counts and store into a dictionary\n",
        "\n",
        "Arguments:\n",
        "lst: input list of corpus\n",
        "\n",
        "Returns:\n",
        "A bigram dictionary of words tuple and probability\n",
        "---{Tuple : Count}\n",
        "\n",
        "'''\n",
        "\n",
        "def unsmoothed_bigram_dic(lst):\n",
        "    bigrams={}                                                                  # An empty dictionary to store bigram tuples\n",
        "    for l in lst:\n",
        "      for i in range(len(l) - 1):                                               # Moving through every position in our list of list of words\n",
        "        temp = (l[i], l[i+1])                                                   # Generating bigram tuple based on the position\n",
        "        if not temp in bigrams:\n",
        "            bigrams[temp] = 1                                                   # Incrementing the bigram dictionary values for every word found \n",
        "        else:\n",
        "            bigrams[temp] += 1\n",
        "    return bigrams  \n",
        "\n",
        "# ****  FUNCTION - unsmoothed_bigram_prob(lst,unigram_dic,bigram_dic)  *******\n",
        "\n",
        "'''\n",
        "Purpose:\n",
        "Calculate the bigram tuple probabilities and store into a dictionary\n",
        "\n",
        "Arguments:\n",
        "lst: input list of corpus\n",
        "unigram_dic: unigram words counts used to be the denominators for calculating\n",
        "probabilities of bigram tuple\n",
        "bigram_dic: dictionary of bigram tuples and counts\n",
        "\n",
        "Returns:\n",
        "A bigram dictionary of words tuple and probability\n",
        "---{Tuple : Probability}\n",
        "\n",
        "''' \n",
        "def unsmoothed_bigram_prob(lst,unigram_dic,bigram_dic):\n",
        "    unsmoothed_bigram_pro ={}\n",
        "    for key, value in bigram_dic.items():                                       # Traversing through key value pairs in the bigram dictionary\n",
        "    # do something with value\n",
        "        unsmoothed_bigram_pro[key] = bigram_dic[key]/unigram_dic[key[0]]        # Generating the bigram probability based on the count of the bigram tuple from the bigram dictionary and the unigram count from the unigram dictionary\n",
        "    return unsmoothed_bigram_pro    \n",
        "            "
      ],
      "execution_count": null,
      "outputs": []
    },
    {
      "cell_type": "markdown",
      "metadata": {
        "id": "ejmIJWSVwRJG"
      },
      "source": [
        "**Please answer the following question**:\n",
        "\n",
        "**Q2: What data structure are you using to store probabilities for unigrams and bigrams? Why did you select this data structure?**\n",
        "\n",
        "Please answer on your writeup doc!"
      ]
    },
    {
      "cell_type": "markdown",
      "metadata": {
        "id": "miWWgYxZtAZu"
      },
      "source": [
        "# Part 3: Smoothed Language Model\n",
        "In this part, you will need to implement **at least one** smoothing method and **at least one** method to handle unknown words in the test data. You can choose any method(s) that you want for each. You should make clear\n",
        "**what method(s)** were selected and **why**, providing a description for any non-standard approach (e.g., an approach that was not covered in class or in the readings). \n",
        "\n",
        "You should use the\n",
        "provided validation sets to experiment with different smoothing/unknown word handling\n",
        "methods if you wish to see which one is more effective for this task. (We will cover this in Part 4)."
      ]
    },
    {
      "cell_type": "markdown",
      "metadata": {
        "id": "SfiAOKfEuMGy"
      },
      "source": [
        "## 3.1 Unknown Words Handling\n",
        "\n",
        "**Please answer the following questions:**\n",
        "\n",
        "**Q3.1: How are you going to handle unknown words? What parameters might be needed? Do you need a method to determine the value?**\n",
        "\n",
        "Please answer on your writeup doc!\n"
      ]
    },
    {
      "cell_type": "code",
      "metadata": {
        "id": "UjFyFDIKUUXJ"
      },
      "source": [
        "# ****  FUNCTION - replace_oov_words_by_unk(tknzd_rev) *******\n",
        "\"\"\"\n",
        "    Purpose : To replace words not in the given vocabulary with 'UNK' token. \n",
        "              The definition for our vocabulary includes every word with more than 1 occurence from the list of sentences \n",
        "    \n",
        "    Arguments:\n",
        "        tknzd_rev: List of lists of strings\n",
        "    \n",
        "    Returns:\n",
        "        List of lists of strings, with words not in the vocabulary replaced with \"UNK\"\n",
        "    \"\"\"\n",
        "\n",
        "def replace_oov_words_by_unk(tknzd_rev):\n",
        "    rpl_lst=[]\n",
        "    dic = unsmoothed_unigram_dic(tknzd_rev)\n",
        "    not_vocabulary = [k for k in dic if dic[k] ==1]\n",
        "\n",
        "    for l in tknzd_rev:\n",
        "      for w in range(len(l)):\n",
        "        # test if word w is in vocabulary\n",
        "        if l[w] in not_vocabulary:\n",
        "            l[w] = \"UNK\"\n",
        "    return tknzd_rev"
      ],
      "execution_count": null,
      "outputs": []
    },
    {
      "cell_type": "markdown",
      "metadata": {
        "id": "aRGK0_x_t46P"
      },
      "source": [
        "## 3.2 Smoothing\n",
        "\n",
        "In this part of project, we are going to compute the probabilities for unigram and bigram models after smoothing.\n",
        "There are several smoothing methods you can start with:\n",
        "* add-k\n",
        "* Kneser-Ney\n",
        "* Good-Turing\n",
        "* ...\n",
        "\n",
        "You need to compute for both unigram and bigram models.\n",
        "\n",
        "Below is a starter point using add-k smoothing. As always, you DO NOT need to follow it; you do need to implement add-k smoothing however feel free to implement any other smoothing methods you'd like and use those for later parts of the assignment!"
      ]
    },
    {
      "cell_type": "code",
      "metadata": {
        "id": "nmW8G3mqt-5z"
      },
      "source": [
        "\n",
        "# ****  FUNCTION - add_k_unigram_prob(unigram_dic, k) *******\n",
        "'''\n",
        "Purpose:\n",
        "Apply smoothing on unigram probabilities dic\n",
        "\n",
        "Arguments:\n",
        "unigram_dic: a dictionary of your unigrams\n",
        "k: smoothing parameters\n",
        "\n",
        "Returns:\n",
        "a dictionary of results after smoothing\n",
        "\n",
        "'''\n",
        "def add_k_unigram_prob(unigram_dic, k):\n",
        "  # TODO\n",
        "    smoothed_unigram_pro ={}\n",
        "    vocab_siz = len(unigram_dic.keys())                                                   # Total Vocabulary size\n",
        "    adjst_deno_cnst = sum(unigram_dic.values()) + k*vocab_siz                             # Adjusted denominator of total word counts used for unigram probability measure\n",
        "    for key, value in unigram_dic.items():\n",
        "    # do something with value\n",
        "        smoothed_unigram_pro[key] = (unigram_dic[key] + k)/(adjst_deno_cnst)              # Smoothing the unigram probability value\n",
        "    return smoothed_unigram_pro\n",
        "\n",
        "# ****  FUNCTION - add_k_bigram_prob(unigram_dic,bigram_dic, k) *******\n",
        "'''\n",
        "Purpose:\n",
        "Apply smoothing on bigram probabilities dic\n",
        "\n",
        "Arguments:\n",
        "unigram_dic: a dictionary of your unigrams.\n",
        "bigram_dic: a dictionary of your bigrams.\n",
        "k: smoothing parameters\n",
        "\n",
        "Returns:\n",
        "a dictionary of results after smoothing\n",
        "\n",
        "'''\n",
        "def add_k_bigram_prob(unigram_dic,bigram_dic, k):\n",
        "  # TODO\n",
        "    smoothed_bigram_pro ={}\n",
        "    vocab_siz = len(unigram_dic.keys())\n",
        "    for key, value in bigram_dic.items():\n",
        "    # do something with value\n",
        "        smoothed_bigram_pro[key] = (bigram_dic[key] + k)/(unigram_dic[key[0]] + k*(vocab_siz))   # Adjusted denominator of total word counts used for bigram probability measure  \n",
        "    return smoothed_bigram_pro\n",
        "\n"
      ],
      "execution_count": null,
      "outputs": []
    },
    {
      "cell_type": "markdown",
      "metadata": {
        "id": "AbHkdI7-t_7D"
      },
      "source": [
        "**Please answer the following question:**\n",
        "\n",
        "**Q3.2: Which smoothing method did you choose? Are there any parameters, if so how are you planning to pick the value? If you choose to implement more than 1 method (not a requirement), please state each of them. Providing a description for any non-standard approach, e.g., an approach that was not covered in class or in the readings**\n",
        "\n",
        "Please answer on your writeup doc!"
      ]
    },
    {
      "cell_type": "markdown",
      "metadata": {
        "id": "4XDwELo-SEwK"
      },
      "source": [
        "#Cummulatively Processing the NGrams\n",
        "\n"
      ]
    },
    {
      "cell_type": "markdown",
      "metadata": {
        "id": "uPEW--TqciOL"
      },
      "source": [
        "We use all the functins that have been defined so far to completely process any given set of tokens - from preprocessing to generation of smoothed probability values. "
      ]
    },
    {
      "cell_type": "code",
      "metadata": {
        "id": "tGjmEqfLRy0k"
      },
      "source": [
        "\n",
        "# ****  FUNCTION - cumm_processing(self,tknzd_rvw,ngram,k) *******\n",
        "\n",
        "'''\n",
        "Purpose:\n",
        "To preprocess our tokenized sentences before creating our language model classifier by removing special characters, stopwords and further treating it for unseen words and unknown words\n",
        "\n",
        "Arguments:\n",
        "tknzd_rvw:List of lists of strings\n",
        "ngram: our choice for the ngram we are preprocessing (string value)\n",
        "k: smoothing parameters\n",
        "\n",
        "Returns:\n",
        "a dictionary of probability values for our tokens after all preprocessing\n",
        "'''\n",
        "def cumm_processing(tknzd_rvw,ngram,k):\n",
        "      no_spchctr = rmvspchr_reviews(tknzd_rvw)                                                                                                                          # Removing special characters\n",
        "      no_spchctr_stp_wrd = rmv_stpwor(no_spchctr)                                                                                                                       # Removing stopwords\n",
        "      replaced_no_sp_stp_wrd = replace_oov_words_by_unk(no_spchctr_stp_wrd)                                                                                             # Replacing unknown words with \"UNK\"\n",
        "      \n",
        "      if ngram ==\"unigram\":                                                                                                                                             # Choice of unigram or bigram\n",
        "        #replaced_no_sp_stp_wrd = replace_oov_words_by_unk(tknzd_rvw)\n",
        "        unsmoothed_dic = unsmoothed_unigram_dic(replaced_no_sp_stp_wrd)                                                                                                 # Creating a dictionary of unigram words based on input list of words \n",
        "        unsmoothed_prob = unsmoothed_unigram_prob(replaced_no_sp_stp_wrd,unsmoothed_unigram_dic(replaced_no_sp_stp_wrd))                                                # Creating a dictionary of unigram word probabilities based on input list of words\n",
        "        smoothed_replaced_prob= add_k_unigram_prob(unsmoothed_unigram_dic(replaced_no_sp_stp_wrd),k)                                                                    # Smoothing a dictionary of unigram words based on input list of words\n",
        "        return smoothed_replaced_prob\n",
        "      \n",
        "      elif ngram ==\"bigram\":\n",
        "          #replaced_no_sp_stp_wrd = replace_oov_words_by_unk(tknzd_rvw)\n",
        "          unsmoothed_dic = unsmoothed_bigram_dic(replaced_no_sp_stp_wrd)                                                                                                # Creating a dictionary of bigram words based on input list of words                                                                                                                               \n",
        "          unsmoothed_prob = unsmoothed_bigram_prob(replaced_no_sp_stp_wrd,unsmoothed_unigram_dic(replaced_no_sp_stp_wrd),unsmoothed_bigram_dic(replaced_no_sp_stp_wrd)) # Creating a dictionary of bigram word probabilities based on input list of words\n",
        "          smoothed_replaced_prob= add_k_bigram_prob(unsmoothed_unigram_dic(replaced_no_sp_stp_wrd),unsmoothed_bigram_dic(replaced_no_sp_stp_wrd) ,k)                    # Smoothing a dictionary of bigram words based on input list of words\n",
        "          return smoothed_replaced_prob    \n",
        "\n"
      ],
      "execution_count": null,
      "outputs": []
    },
    {
      "cell_type": "markdown",
      "metadata": {
        "id": "ML03appeuSm3"
      },
      "source": [
        "# Part 4: Perplexity\n",
        "At this point, we have developed several language models: unigram vs bigram, unsmoothed vs smoothed. We now want to compare all the models. \n",
        "\n",
        "Implement code to compute the perplexity of a **“development set.”** (“Development set”\n",
        "is just another way to refer to the validation set—part of a dataset that is distinct from\n",
        "the training portion and the test portion.) Compute and report the perplexity of each\n",
        "of the language models (one trained on true reviews and fake reviews) on\n",
        "the development corpora. Compute perplexity as follows:\n",
        "\\begin{align*}\n",
        "PP &= \\left(\\prod_i^N\\frac{1}{P\\left(W_i\\mid W_{i-1}, ...W_{i-n+1}\\right)}\\right)^{\\frac{1}{N}}\\\\\n",
        "&=\\exp \\frac{1}{N}\\sum_{i}^N-\\log P\\left(W_i\\mid W_{i-1}, ...W_{i-n+1}\\right)\n",
        "\\end{align*}\n",
        "where $N$ is the total number of tokens in the test corpus and $P\\left(W_i\\mid W_{i-1}, ...W_{i-n+1}\\right)$\n",
        "is the n-gram probability of your model. Under the second definition above, perplexity\n",
        "is a function of the average (per-word) log probability: use this to avoid numerical\n",
        "computation errors.\n",
        "\n",
        "Please complete the following tasks and report what you have observed. Remember, lower perplexity means better model."
      ]
    },
    {
      "cell_type": "markdown",
      "metadata": {
        "id": "aT1IRyohJw7e"
      },
      "source": [
        "## Task 1: Compute perplexity for smoothed unigram and smoothed bigram. \n",
        "*Note: If you choose more than one smoothing method, pick one of them to compute. If you need to try different values of parameters, you can try them out here.*\n"
      ]
    },
    {
      "cell_type": "code",
      "metadata": {
        "id": "FqEJzEC6GTdw"
      },
      "source": [
        "# ****  FUNCTION - unigram_perplexity(lst, uni_prob) *******\n",
        "\n",
        "'''\n",
        "Purpose:\n",
        "To generate the perplexity values for a given list of unigram words based on the probability values of the same words from a training set\n",
        "\n",
        "Arguments:\n",
        "lst:List of strings\n",
        "uni_prob: our list of (preprocessed) unigram word probabilities from our training set\n",
        "\n",
        "Returns:\n",
        "Perplexity value for all the unigram words present both in the input list and our training set \n",
        "'''\n",
        "\n",
        "def unigram_perplexity(lst, uni_prob):\n",
        "  perplexity = []\n",
        "  for word in lst:                                                              # Iterating through every word in the list\n",
        "      if word in uni_prob:                                                      # Checking if the unigram tuple from the list is present in the unigram dictionary generated from our training data\n",
        "        perplexity.append(-np.log(uni_prob[word]))                              # Adding the negative logarithms of perplexity values to the perplexity list\n",
        "  return np.exp(1.0 / len(perplexity) * sum(perplexity))                        # Returning actual perplexity values\n",
        "\n",
        "# ****  FUNCTION - bigram_perplexity(lst, bi_prob, uni_prob) *******\n",
        "\n",
        "'''\n",
        "Purpose:\n",
        "To generate the perpelxity values for a given list of bigrams based on the probability values of the same set of words from a training set\n",
        "\n",
        "Arguments:\n",
        "lst:List of strings\n",
        "bi_prob:our list of (preprocessed) bigram word probabilities from our training set\n",
        "uni_prob: our list of (preprocessed) unigram word probabilities from our training set\n",
        "\n",
        "Returns:\n",
        "Perplexity value for all the bigram words present both in the input list and our training set \n",
        "'''\n",
        "\n",
        "\n",
        "def bigram_perplexity(lst, bi_prob, uni_prob):\n",
        "    perplexity = []\n",
        "    for i in range(len(lst)-1):                                                 # Iterating through position in the list\n",
        "      bigramTuple = (lst[i], lst[i+1])                                          # Generating bigram tuple based on the position\n",
        "      if bigramTuple in bi_prob:                                                # Checking if the bigram tuple from the list is present in the bigram dictionary generated from our training data\n",
        "        perplexity.append(-np.log(bi_prob[bigramTuple]))                        # Adding the negative logarithms of perplexity values to the perplexity list\n",
        "    return np.exp(1.0 / len(perplexity) * sum(perplexity))                      # Returning actual perplexity values\n"
      ],
      "execution_count": null,
      "outputs": []
    },
    {
      "cell_type": "markdown",
      "metadata": {
        "id": "QbxTiHHh7Lwc"
      },
      "source": [
        "**Q4.1: Why do we need to compute perplexity after smoothing?**\n",
        "\n",
        "Please answer on your writeup doc!\n",
        "\n",
        "**Q4.2: Did you choose any values for parameters?**\n",
        "\n",
        "Please answer on your writeup doc!"
      ]
    },
    {
      "cell_type": "markdown",
      "metadata": {
        "id": "RQxfllB0KfKf"
      },
      "source": [
        "## Task 2: Compute perplexity for other smoothing methods (BONUS 🎉). \n",
        "*Note: If you only pick one smoothing method, you can omit this task. If you need to try different values of parameters, you can try them out here.*"
      ]
    },
    {
      "cell_type": "code",
      "metadata": {
        "id": "5fU-sCOYK_xI"
      },
      "source": [
        "# TODO: compute perplexity for your rest of smoothing method."
      ],
      "execution_count": null,
      "outputs": []
    },
    {
      "cell_type": "markdown",
      "metadata": {
        "id": "VaALsOnk7FZJ"
      },
      "source": [
        "**Q4.3: If your smoothing method needs to pick a parameter, what is the value of your parameter?**\n",
        "\n",
        "Please answer on your writeup doc!\n",
        "\n",
        "**Q4.4: Which smoothing method is the best among your choices?**\n",
        "\n",
        "Please answer on your writeup doc!"
      ]
    },
    {
      "cell_type": "markdown",
      "metadata": {
        "id": "JKH7JpZWvdP5"
      },
      "source": [
        "# Part 5: Putting Everything Together and Submitting to Kaggle\n",
        "Combining all the previous parts together, we have developed a bunch of language models. Before we proceed to the next step, let's check a few things (no need to answer):\n",
        "* Did you train your model only on training set?\n",
        "* Did you validate your model only on validation/development set?\n",
        "* Did you determine all your parameters?\n",
        "\n",
        "Finally, please answer:\n",
        "\n",
        "**Q5: What is your choice of language model, and why?** (Hint: How do we usually choose language models? What is our selection criteria? _Look at the Sept. 9th lecture_)\n",
        "\n",
        "Please answer on your writeup doc!\n",
        "\n"
      ]
    },
    {
      "cell_type": "markdown",
      "metadata": {
        "id": "py3v6B71Nv4r"
      },
      "source": [
        "###Building a Language Model Classifier"
      ]
    },
    {
      "cell_type": "code",
      "metadata": {
        "id": "ukEVlpFow6mz"
      },
      "source": [
        "# ****  FUNCTION - unigramClassifier(tokens, truthfulProbs, deceptiveProbs) *******\n",
        "\n",
        "'''\n",
        "Purpose:\n",
        "To preprocess our tokenized sentences before creating our language model classifier by removing special characters, stopwords and further treating it for unseen words and unknown words\n",
        "\n",
        "Arguments:\n",
        "tokens:List of lists of strings\n",
        "truthfulProbs: Our final preprocessed list of unigram probabilities based on real reviews from the training set\n",
        "deceptiveProbs: Our final preprocessed list of unigram probabilities based on fake reviews from the training set\n",
        "\n",
        "Returns:\n",
        "List of 1's and 0's for each review in the tokens based on the perplexity values of the reviews using training set's real and fake review probabilities. \n",
        "'''\n",
        "\n",
        "def unigramClassifier(tokens, truthfulProbs, deceptiveProbs):\n",
        "  result = []                                                                         # Prediction list\n",
        "  for idx,line in enumerate(tokens):\n",
        "    truthfulPerplexity = unigram_perplexity(line, truthfulProbs)                      # Applying the unigram perplexity model on the list of \"real review\" probabilities\n",
        "    deceptivePerplexity = unigram_perplexity(line, deceptiveProbs)                    # Applying the unigram perplexity model on the list of \"fake review\" probabilities\n",
        "    if truthfulPerplexity <= deceptivePerplexity:\n",
        "      result.append(0)                                                                # Assigning 0 (binary) prediction value to the review based on the lower of truthful and deceptive probablity values\n",
        "    else:\n",
        "      result.append(1)                                                                # Assigning 1 (binary) prediction value to the review based on the lower of truthful and deceptive probablity values\n",
        "  return result                      \n",
        "\n",
        "\n",
        "# ****  FUNCTION - bigramClassifier(tokens, bitruthfulProbs, bideceptiveProbs, unitruthfulProbs, unideceptiveProbs) *******\n",
        "\n",
        "'''\n",
        "Purpose:\n",
        "To preprocess our tokenized sentences before creating our language model classifier by removing special characters, stopwords and further treating it for unseen words and unknown words\n",
        "\n",
        "Arguments:\n",
        "tokens: List of lists of strings\n",
        "bitruthfulProbs:Our final preprocessed list of bigram probabilities based on real reviews from the training set\n",
        "bideceptiveProbs:Our final preprocessed list of bigram probabilities based on fake reviews from the training set\n",
        "truthfulProbs: Our final preprocessed list of unigram probabilities based on real reviews from the training set\n",
        "deceptiveProbs: Our final preprocessed list of unigram probabilities based on fake reviews from the training set\n",
        "\n",
        "\n",
        "Returns:\n",
        "List of 1's and 0's for each review in the tokens based on the perplexity values of the reviews using training set's real and fake review probabilities.\n",
        "'''\n",
        "\n",
        "def bigramClassifier(tokens, bitruthfulProbs, bideceptiveProbs, unitruthfulProbs, unideceptiveProbs):\n",
        "  result = []                                                                         # Prediction list\n",
        "  for idx,line in enumerate(tokens):\n",
        "    truthfulPerplexity = bigram_perplexity(line, bitruthfulProbs, unitruthfulProbs)   # Applying the bigram perplexity model on the list of \"real review\" probabilities    \n",
        "    deceptivePerplexity = bigram_perplexity(line, bideceptiveProbs, unideceptiveProbs)# Applying the bigram perplexity model on the list of \"fake review\" probabilities \n",
        "    if truthfulPerplexity <= deceptivePerplexity:\n",
        "      result.append(0)                                                                # Assigning 0 (binary) prediction value to the review based on the lower of truthful and deceptive probablity values\n",
        "    else:\n",
        "      result.append(1)                                                                # Assigning 1 (binary) prediction value to the review based on the lower of truthful and deceptive probablity values\n",
        "  return result"
      ],
      "execution_count": null,
      "outputs": []
    },
    {
      "cell_type": "markdown",
      "metadata": {
        "id": "V8t9qwKKdQHm"
      },
      "source": [
        "###Accuracy - Our Evaluation Criteria"
      ]
    },
    {
      "cell_type": "code",
      "metadata": {
        "id": "nZWkBRKhdVgv"
      },
      "source": [
        "# ****  FUNCTION - accuracy_val(valid_y, pred) *******\n",
        "\n",
        "'''\n",
        "Purpose:\n",
        "To find the accuracy of a given prediction set based on a test set.\n",
        "\n",
        "Accuracy = (# of correct predictions)/(# of values in the prediction set)\n",
        "\n",
        "Arguments:\n",
        "valid_y: List of actual binary values (0's and 1's) for real and fake reviews from test set\n",
        "pred: List of predicted binary values for real and fake reviews generated by a model\n",
        "\n",
        "Returns:\n",
        "Accuracy results based on the total number of correct predictions made by model\n",
        "'''\n",
        "\n",
        "def accuracy_val(valid_y, pred):\n",
        "  accuracy=0\n",
        "  for i in range(len(valid_y)):\n",
        "    if valid_y[i] == pred[i]:                       # Checking if predicted values are equal the actual values from validation set\n",
        "      accuracy+=1                                   # Incrementing the accuracy counter to take note of the correct predictions\n",
        "  return accuracy/len(pred)"
      ],
      "execution_count": null,
      "outputs": []
    },
    {
      "cell_type": "markdown",
      "metadata": {
        "id": "cJTbSNCqTGSR"
      },
      "source": [
        "#Results"
      ]
    },
    {
      "cell_type": "markdown",
      "metadata": {
        "id": "mXDGsQc0aEtL"
      },
      "source": [
        "We obtain the following results applying the LM classifier developed above. Note that we have chosen to keep an optimal smoothing parameter of k =0.01 and k=0.2 for unigram and bigram LM repectively based on iterative results"
      ]
    },
    {
      "cell_type": "code",
      "metadata": {
        "colab": {
          "base_uri": "https://localhost:8080/"
        },
        "id": "QlZZyCJJTJd4",
        "outputId": "0c815aaa-9972-4e2d-8f63-d9d1a20654d5"
      },
      "source": [
        "# Finding smooothed bigram and unigram probabilities seperately for real and fake reviews from training data\n",
        "\n",
        "smoothed_process_unigram_prob_real = cumm_processing(tokenized_real_review_training,\"unigram\",0.2)      # Applying the cummulative pocessing function on our tokenized real reviews choosing a unigram model\n",
        "smoothed_process_bigram_prob_real = cumm_processing(tokenized_real_review_training,\"bigram\",0.00001)    # Applying the cummulative pocessing function on our tokenized real reviews choosing a bigram model\n",
        "smoothed_process_unigram_prob_fake = cumm_processing(tokenized_fake_review_training,\"unigram\",0.2)      # Applying the cummulative pocessing function on our tokenized fake reviews choosing a unigram model\n",
        "smoothed_process_bigram_prob_fake = cumm_processing(tokenized_fake_review_training,\"bigram\",0.00001)    # Applying the cummulative pocessing function on our tokenized fake reviews choosing a bigram model"
      ],
      "execution_count": null,
      "outputs": [
        {
          "output_type": "stream",
          "name": "stdout",
          "text": [
            "[nltk_data] Downloading package stopwords to /root/nltk_data...\n",
            "[nltk_data]   Package stopwords is already up-to-date!\n",
            "[nltk_data] Downloading package stopwords to /root/nltk_data...\n",
            "[nltk_data]   Package stopwords is already up-to-date!\n",
            "[nltk_data] Downloading package stopwords to /root/nltk_data...\n",
            "[nltk_data]   Package stopwords is already up-to-date!\n",
            "[nltk_data] Downloading package stopwords to /root/nltk_data...\n",
            "[nltk_data]   Package stopwords is already up-to-date!\n"
          ]
        }
      ]
    },
    {
      "cell_type": "markdown",
      "metadata": {
        "id": "6525N5kXbhUg"
      },
      "source": [
        "The prediction values based on the unigram classifier are given below:"
      ]
    },
    {
      "cell_type": "code",
      "metadata": {
        "id": "HGwtTBIAMoAk",
        "colab": {
          "base_uri": "https://localhost:8080/"
        },
        "outputId": "75d90a20-3548-4b32-bd93-46c8af39fef3"
      },
      "source": [
        "result_uni = unigramClassifier(tokenized_review_validation, smoothed_process_unigram_prob_real, smoothed_process_unigram_prob_fake)   ##Applying the unigram classifier on the validation dataset based on our obtained probabilities of real and fake reviews from training data\n",
        "print(result_uni)"
      ],
      "execution_count": null,
      "outputs": [
        {
          "output_type": "stream",
          "name": "stdout",
          "text": [
            "[0, 0, 1, 1, 1, 0, 1, 0, 1, 0, 0, 1, 0, 0, 1, 1, 1, 1, 0, 1, 0, 0, 0, 1, 1, 0, 0, 0, 0, 0, 1, 0, 1, 0, 0, 0, 1, 1, 1, 0, 0, 1, 0, 0, 0, 0, 1, 1, 0, 0, 1, 0, 1, 1, 1, 1, 0, 1, 1, 1, 0, 1, 0, 0, 1, 0, 0, 1, 1, 0, 1, 1, 0, 0, 0, 1, 1, 0, 1, 1, 1, 1, 1, 1, 1, 1, 0, 1, 1, 1, 1, 1, 1, 1, 1, 1, 1, 1, 1, 0, 1, 1, 1, 1, 1, 1, 1, 1, 1, 1, 1, 1, 1, 1, 1, 1, 1, 1, 1, 1, 1, 1, 1, 1, 1, 1, 0, 1, 1, 1, 1, 0, 1, 1, 1, 1, 1, 1, 0, 1, 1, 1, 1, 1, 0, 1, 1, 1, 1, 1, 1, 1, 0, 1, 1, 1, 1, 1, 1, 0]\n"
          ]
        }
      ]
    },
    {
      "cell_type": "markdown",
      "metadata": {
        "id": "Hr33HDALbq01"
      },
      "source": [
        "The prediction values based on the bigram classifier are given below:"
      ]
    },
    {
      "cell_type": "code",
      "metadata": {
        "id": "0vpMp3fCVHuQ",
        "colab": {
          "base_uri": "https://localhost:8080/"
        },
        "outputId": "ef69a00f-df04-4f8a-a721-9c840ad6ea4d"
      },
      "source": [
        "result_bi = bigramClassifier(tokenized_review_validation, smoothed_process_bigram_prob_real, smoothed_process_bigram_prob_fake, smoothed_process_unigram_prob_real, smoothed_process_unigram_prob_fake)   ##Applying the bigram classifier on the validation dataset based on the above obtained probabilities of real and reviews from training data\n",
        "print(result_bi)"
      ],
      "execution_count": null,
      "outputs": [
        {
          "output_type": "stream",
          "name": "stdout",
          "text": [
            "[1, 0, 1, 0, 0, 0, 0, 1, 0, 0, 1, 0, 1, 1, 0, 1, 1, 0, 1, 0, 0, 1, 0, 0, 0, 1, 1, 1, 1, 1, 1, 1, 0, 1, 1, 1, 1, 0, 0, 1, 0, 1, 1, 0, 1, 0, 1, 0, 0, 1, 0, 0, 1, 0, 1, 1, 1, 1, 1, 1, 1, 1, 0, 0, 0, 1, 1, 0, 0, 1, 1, 0, 1, 1, 0, 1, 1, 1, 0, 0, 1, 0, 1, 1, 1, 1, 0, 1, 0, 1, 1, 1, 1, 0, 1, 0, 1, 1, 1, 1, 1, 1, 1, 1, 0, 1, 1, 1, 1, 1, 1, 1, 0, 0, 1, 0, 1, 0, 1, 0, 1, 1, 1, 1, 1, 1, 1, 1, 1, 1, 1, 1, 1, 1, 1, 1, 1, 0, 1, 1, 0, 1, 1, 0, 1, 1, 0, 1, 1, 1, 1, 1, 1, 1, 1, 1, 0, 1, 0, 0]\n"
          ]
        }
      ]
    },
    {
      "cell_type": "markdown",
      "metadata": {
        "id": "aNwY3675eB7Y"
      },
      "source": [
        "The accuracy based on the unigram classifier is given below:"
      ]
    },
    {
      "cell_type": "code",
      "metadata": {
        "colab": {
          "base_uri": "https://localhost:8080/"
        },
        "id": "_AGBFMOZj5E8",
        "outputId": "2976c87e-6820-4f21-b99e-d7706fee397d"
      },
      "source": [
        "accr_uni = accuracy_val(y_valid,result_uni)      #Accuracy values calculated for unigram classifier based of the binary y values 0's (real reviews) and 1's (fake reviews) from validation data\n",
        "print(accr_uni)"
      ],
      "execution_count": null,
      "outputs": [
        {
          "output_type": "stream",
          "name": "stdout",
          "text": [
            "0.70625\n"
          ]
        }
      ]
    },
    {
      "cell_type": "markdown",
      "metadata": {
        "id": "yF6bnJYIeKdk"
      },
      "source": [
        "The accuracy based on the bigram classifier is given below"
      ]
    },
    {
      "cell_type": "code",
      "metadata": {
        "colab": {
          "base_uri": "https://localhost:8080/"
        },
        "id": "bJuyWMP0eYvN",
        "outputId": "1eba9edf-fc5c-415b-9c5f-be0c04b9b9c6"
      },
      "source": [
        "accr_bi = accuracy_val(y_valid,result_bi)       #Accuracy values calculated for bigram classifier based of the binary y values (0's (real reviews) and 1's (fake reviews) from validation data )\n",
        "print(accr_bi)"
      ],
      "execution_count": null,
      "outputs": [
        {
          "output_type": "stream",
          "name": "stdout",
          "text": [
            "0.60625\n"
          ]
        }
      ]
    },
    {
      "cell_type": "markdown",
      "metadata": {
        "id": "dx18YdSaefQ6"
      },
      "source": [
        "###Conclusion"
      ]
    },
    {
      "cell_type": "markdown",
      "metadata": {
        "id": "EeOrU74ue4Pg"
      },
      "source": [
        "Considering how the **accuracy** of the **unigram classifier** (70.625 %) is **more** than that of bigram classifier (60.625 %), we conclude that it more effective to choose a unigram based LM for the problem at hand."
      ]
    },
    {
      "cell_type": "markdown",
      "metadata": {
        "id": "E7bWKZQjv2Ht"
      },
      "source": [
        "## Part 5.1: First Model Submission to Kaggle\n",
        "\n",
        "Now we need to apply our model to testing data. What you need to do:\n",
        "* Takes the test data as input, and generates an output of your prediction based on your chosen language model\n",
        "* Your output file should be ONLY your predictions\n",
        "* Submit to Kaggle\n",
        "\n",
        "You should use your trained model to predict labels for all the reviews in `TestData.txt`. Output your predictions to a **csv** file and submit it to kaggle. Each line should contain the id of the test review and its corresponding prediction (in total 160 lines). In other words, your output should look like (**including the header**):\n",
        "```\n",
        "Id,Prediction\n",
        "0,0\n",
        "1,0\n",
        "2,1\n",
        "3,0\n",
        "...\n",
        "160,1\n",
        "```\n",
        "Note that you should add the header `Id,Prediction` and there is no space in the output. The Id starts from 0 (not 1).\n",
        "\n",
        "Use this kaggle [link](https://www.kaggle.com/t/eb382e53c0cc448d9da21b3527d) to submit your output. Your team name should be the concatenation of your netids, **exactly in the same order as this notebook is named**. For example, if notebook is 4740_FA21_p1_mb2363_ssc255, then Kaggle group should be mb2363_ssc255.\n",
        "\n",
        "You have 10 submissions **per day** so do not wait until the last minute! There is additionally a baseline score on Kaggle for you to benchmark against.\n"
      ]
    },
    {
      "cell_type": "markdown",
      "metadata": {
        "id": "islB7P9Ve3M5"
      },
      "source": [
        "###Applying to the test dataset"
      ]
    },
    {
      "cell_type": "code",
      "metadata": {
        "colab": {
          "base_uri": "https://localhost:8080/"
        },
        "id": "P1UB4iFlFZWJ",
        "outputId": "de7ebe39-8a0a-4a2f-da09-89da571fa25b"
      },
      "source": [
        "\n",
        "pred = unigramClassifier(tokenized_review_test, smoothed_process_unigram_prob_real, smoothed_process_unigram_prob_fake)   # Applying the unigram classifer method to the test data\n",
        "Predicted_1 = pd.DataFrame(pred, columns= ['Prediction'])                                                                 # Creating a dataframe with our predictions\n",
        "Predicted['Id'] = range(0,160)                                                                                            # Creating an ID column for the same dataframe \n",
        "Predicted_1 = Predicted[['Id', 'Prediction']]                                                                             # Joining our ID and predictions dataframe into one\n",
        "print(Predicted_1)"
      ],
      "execution_count": null,
      "outputs": [
        {
          "output_type": "stream",
          "name": "stdout",
          "text": [
            "      Id  Prediction\n",
            "0      0           1\n",
            "1      1           1\n",
            "2      2           1\n",
            "3      3           1\n",
            "4      4           0\n",
            "..   ...         ...\n",
            "155  155           0\n",
            "156  156           0\n",
            "157  157           0\n",
            "158  158           1\n",
            "159  159           1\n",
            "\n",
            "[160 rows x 2 columns]\n"
          ]
        }
      ]
    },
    {
      "cell_type": "code",
      "metadata": {
        "id": "wqECbQs7wDFr"
      },
      "source": [
        "# TODO: Add code to generate the Kaggle output file and submit the output file to Kaggle\n",
        "df = pd.DataFrame(result_uni, columns= ['Prediction'])\n",
        "df.to_csv(\"unigram.csv\")"
      ],
      "execution_count": null,
      "outputs": []
    },
    {
      "cell_type": "code",
      "metadata": {
        "id": "OFxXkfe2rmed"
      },
      "source": [
        "!cp unigram.csv \"drive/My Drive/\""
      ],
      "execution_count": null,
      "outputs": []
    },
    {
      "cell_type": "markdown",
      "metadata": {
        "id": "uBtISMsewD4e"
      },
      "source": [
        "# Part 6: Naive Bayes\n",
        "\n",
        "The Naive Bayes classification method is based on Bayes Rule. Suppose we have a review *d* and its label *c* (either 0 or 1).\n",
        "\\begin{align*}\n",
        "P(c|d)=\\frac{P(d|c)P(c)}{P(d)}\n",
        "\\end{align*}\n",
        "Likelihood: $P(d|c)$. In real/deception corpus, how likely *d* would appear.\n",
        "\n",
        "Prior: $P(c)$. The probability of real/deceptive reviews in general.\n",
        "\n",
        "Posterior: $P(c|d)$. Given *d*, how likely is it that it is real/deceptive.\n",
        "\n",
        "Goal: $\\underset{c\\in \\{0,1\\}}{\\operatorname{argmax}} P(c|d)$, which is equivalent to $\\underset{c\\in \\{0,1\\}}{\\operatorname{argmax}} P(d|c)P(c)$.\n",
        "\n",
        "The equivalence holds because $P(d)$ is the same for any $c$. Thus the denominator can be dropped.\n",
        "\n",
        "Denote $d=\\{x_1, x_2, ..., x_n\\}$ where $x_i$'s are words in the reviews *d* (sometimes called features). Unlike n-gram language modelling, we make the multinomial Naive Bayes independence assumption here, where we assume positions of words do not matter. Formally, \n",
        "\\begin{align*}\n",
        "&\\underset{c\\in \\{0,1\\}}{\\operatorname{argmax}} P(d|c)P(c)\\\\\n",
        "=&\\underset{c\\in \\{0,1\\}}{\\operatorname{argmax}} P(x_1, ..., x_n|c)P(c)\\\\\n",
        "=&\\underset{c\\in \\{0,1\\}}{\\operatorname{argmax}} P(x_1|c)P(x_2|c)...P(x_n|c)\n",
        "\\end{align*}\n",
        "\n",
        "Now we only need to collect the occurences of each word for the classification. This is often called a **bag of words** feature. \n",
        "\n",
        "For instance, in the sentence `All for one and one for all .`, the bag of words feature would be `{\"all\": 2, \"for\": 2, \"one\": 2, \"and\": 1, \".\": 1}`. Essentially, the bag of words feature is a dictionary which maps the word to its occurences. We can see that the order is not considered here.\n",
        "\n",
        "Now, your goal is to implement the Multinomial Naive Bayes. You can use existing codes or Python packages, and adapt them to our reviews classification task.\n",
        "\n",
        "You might find the following packages/functions useful:\n",
        "\n",
        "* nltk.word_tokenize(), nltk.word_tokenize()\n",
        "* nltk.classify.naivebayes()\n",
        "* sklearn.feature_extraction.text\n",
        "* sklearn.naive_bayes.MultinomialNB()"
      ]
    },
    {
      "cell_type": "markdown",
      "metadata": {
        "id": "ZtQpd3ciodGZ"
      },
      "source": [
        "**Please answer the following question(s).**\n",
        "\n",
        "**Q6: Comparing Multinomial Naive Bayes with the unigram language model, which one do you expect to perform better? Why?**\n",
        "\n",
        "Please answer on your writeup doc!"
      ]
    },
    {
      "cell_type": "markdown",
      "metadata": {
        "id": "ZaZTryrewV4I"
      },
      "source": [
        "## 6.1 Implementation"
      ]
    },
    {
      "cell_type": "code",
      "metadata": {
        "id": "qNqgSD-EkEba"
      },
      "source": [
        "# ****  FUNCTION - nb_classifier(test_data,train_real_data,train_fake_data,model) *******\n",
        "\n",
        "'''\n",
        "Purpose:\n",
        "To use the Naive Bayes (NB) Classifier and predict whetehr a given test review is real or fake and also further find the accuracy of a given prediction value set based on a test set\n",
        "\n",
        "Arguments:\n",
        "test_data: Test data whose real or fake labels we are predicting\n",
        "train_data: Reviews training data which is used to train our NB classifer\n",
        "model:Count vectorizer or tfidf vectorizer counts for the number of words in our training and test set \n",
        "\n",
        "Returns:\n",
        "The predictions on the test data made by the classifier model based on the training data\n",
        "'''\n",
        "import re\n",
        "from sklearn import metrics\n",
        "from sklearn.naive_bayes import MultinomialNB\n",
        "from sklearn.feature_extraction.text import CountVectorizer,TfidfVectorizer\n",
        "\n",
        "def nb_classifier(test_data,train_data,model):\n",
        "\n",
        "  y_train = train_data[\"y\"]                                         # Output label columns of training data\n",
        "  y_test = test_data[\"y\"]                                           # Output label columns of test data\n",
        "  X_train = train_data[\"Review\"]                                    # Output \"review\" (X) columns of training data\n",
        "  X_test = test_data[\"Review\"]                                      # Output \"review\" (X) columns of test data\n",
        "  \n",
        "  if model == \"countvectorizer\":\n",
        "    method = CountVectorizer()\n",
        "  elif model == \"tfidfvectorizer\":\n",
        "    method = TfidfVectorizer(stop_words = \"english\", max_df=0.2)    # specifying the vectorizer to ignore stop words and maximum document freqency of value = 0.2\n",
        "  \n",
        "  method_train = method.fit_transform(X_train.values)               # Transform the training data using only the 'review' column values of training data: method_train \n",
        "  method_test = method.transform(X_test.values)                     # Transform the test data using only the 'review' column values of test data: count_test \n",
        "\n",
        "  nb_classifier = MultinomialNB()                                   # Instantiate a Multinomial Naive Bayes classifier: nb_classifier\n",
        "\n",
        "  nb_classifier.fit(method_train, y_train)                          # Fit the classifier to the training data\n",
        "\n",
        "  pred = nb_classifier.predict(method_test)                         # Create the predicted values: pred\n",
        "\n",
        "  score = metrics.accuracy_score(y_test, pred)                      # Calculate the accuracy score: score\n",
        "  return pred\n",
        "\n",
        "  "
      ],
      "execution_count": null,
      "outputs": []
    },
    {
      "cell_type": "markdown",
      "metadata": {
        "id": "tDOHQZxn7aGZ"
      },
      "source": [
        "##Performance on validation set"
      ]
    },
    {
      "cell_type": "markdown",
      "metadata": {
        "id": "njin2yR0PrLg"
      },
      "source": [
        "The NB classifier based on Count Vectorizer and Tfidf Vectorizer is applied on the validation data we are given and checked for their respective accuracies."
      ]
    },
    {
      "cell_type": "code",
      "metadata": {
        "colab": {
          "base_uri": "https://localhost:8080/"
        },
        "id": "NQks7oZC7KUK",
        "outputId": "46caacc6-acc8-45b6-cded-5646c0e10bf0"
      },
      "source": [
        "# Predicting the labels of the validation dataset and finding the accuracy of prediction using Counte Vectorizer and Tfidf Vectorizer model\n",
        "\n",
        "pred_count_vecto_valid = nb_classifier(df_review_valid,df_review_train,\"countvectorizer\") # Predicting labels of validation tablelled data using the Count Vectorizer nb_classifier \n",
        "print(\"The accuracy using Count Vectorizer model is {0}\".format(accuracy_val(y_valid,pred_count_vecto_valid))) # Calculating the accuracy of Count Vectorizer model\n",
        "\n",
        "pred_tfidf_vecto_valid = nb_classifier(df_review_valid,df_review_train,\"tfidfvectorizer\") # Predicting labels of validation tablelled data using the Tfidf Vectorizer nb_classifier \n",
        "print(\"The accuracy using Tfidf Vectorizer model is {0}\".format(accuracy_val(y_valid,pred_tfidf_vecto_valid)))  # Calculating the accuracy of Tdidf Vectorizer model"
      ],
      "execution_count": null,
      "outputs": [
        {
          "output_type": "stream",
          "name": "stdout",
          "text": [
            "The accuracy using Count Vectorizer model is 0.90625\n",
            "The accuracy using Tfidf Vectorizer model is 0.8875\n"
          ]
        }
      ]
    },
    {
      "cell_type": "markdown",
      "metadata": {
        "id": "Fo6c87-0C-Qc"
      },
      "source": [
        "#6.15 Conclusion - Final Choice of NB Classifier"
      ]
    },
    {
      "cell_type": "markdown",
      "metadata": {
        "id": "HI3x1XGbDFXr"
      },
      "source": [
        "We see that the **Count Vectorizer** model gives **higher accuracy** (90.625%) compared to the Tfidf vectorizer model (88.75%) on the validation set. We hence proceed to choose the CountVectorizer for the test data set.\n",
        "\n"
      ]
    },
    {
      "cell_type": "markdown",
      "metadata": {
        "id": "NWurBZeiwZmT"
      },
      "source": [
        "## 6.2 Putting Everything Together and Submitting to Kaggle\n",
        "\n",
        "You should use your trained model to predict labels for all the reviews in `P1_real_fake_review_test.txt`. Output your predictions to a **csv** file and submit it to kaggle. The format should follow Part 6 as well.\n",
        "\n",
        "Use the previous kaggle link to submit your output! (You are allowed multiple submissions!)"
      ]
    },
    {
      "cell_type": "markdown",
      "metadata": {
        "id": "YPhg6aYe9g8i"
      },
      "source": [
        "###Applying to test set data"
      ]
    },
    {
      "cell_type": "markdown",
      "metadata": {
        "id": "LKpvVJYfRYuo"
      },
      "source": [
        "We apply the NB classifier based on Count Vectorizer to our test data. "
      ]
    },
    {
      "cell_type": "code",
      "metadata": {
        "colab": {
          "base_uri": "https://localhost:8080/",
          "height": 415
        },
        "id": "xcvTaN_nCyQt",
        "outputId": "71eb74f6-37f7-4ffa-c961-04682165879a"
      },
      "source": [
        "pred = nb_classifier(df_test_review,df_review_train,\"countvectorizer\")\n",
        "Predicted_2 = pd.DataFrame(pred, columns= ['Prediction'])\n",
        "Predicted['Id'] = range(0,160)\n",
        "Predicted_2 = Predicted[['Id', 'Prediction']]\n",
        "Predicted_2"
      ],
      "execution_count": null,
      "outputs": [
        {
          "output_type": "execute_result",
          "data": {
            "text/html": [
              "<div>\n",
              "<style scoped>\n",
              "    .dataframe tbody tr th:only-of-type {\n",
              "        vertical-align: middle;\n",
              "    }\n",
              "\n",
              "    .dataframe tbody tr th {\n",
              "        vertical-align: top;\n",
              "    }\n",
              "\n",
              "    .dataframe thead th {\n",
              "        text-align: right;\n",
              "    }\n",
              "</style>\n",
              "<table border=\"1\" class=\"dataframe\">\n",
              "  <thead>\n",
              "    <tr style=\"text-align: right;\">\n",
              "      <th></th>\n",
              "      <th>Id</th>\n",
              "      <th>Prediction</th>\n",
              "    </tr>\n",
              "  </thead>\n",
              "  <tbody>\n",
              "    <tr>\n",
              "      <th>0</th>\n",
              "      <td>0</td>\n",
              "      <td>1</td>\n",
              "    </tr>\n",
              "    <tr>\n",
              "      <th>1</th>\n",
              "      <td>1</td>\n",
              "      <td>1</td>\n",
              "    </tr>\n",
              "    <tr>\n",
              "      <th>2</th>\n",
              "      <td>2</td>\n",
              "      <td>1</td>\n",
              "    </tr>\n",
              "    <tr>\n",
              "      <th>3</th>\n",
              "      <td>3</td>\n",
              "      <td>1</td>\n",
              "    </tr>\n",
              "    <tr>\n",
              "      <th>4</th>\n",
              "      <td>4</td>\n",
              "      <td>0</td>\n",
              "    </tr>\n",
              "    <tr>\n",
              "      <th>...</th>\n",
              "      <td>...</td>\n",
              "      <td>...</td>\n",
              "    </tr>\n",
              "    <tr>\n",
              "      <th>155</th>\n",
              "      <td>155</td>\n",
              "      <td>0</td>\n",
              "    </tr>\n",
              "    <tr>\n",
              "      <th>156</th>\n",
              "      <td>156</td>\n",
              "      <td>0</td>\n",
              "    </tr>\n",
              "    <tr>\n",
              "      <th>157</th>\n",
              "      <td>157</td>\n",
              "      <td>0</td>\n",
              "    </tr>\n",
              "    <tr>\n",
              "      <th>158</th>\n",
              "      <td>158</td>\n",
              "      <td>1</td>\n",
              "    </tr>\n",
              "    <tr>\n",
              "      <th>159</th>\n",
              "      <td>159</td>\n",
              "      <td>1</td>\n",
              "    </tr>\n",
              "  </tbody>\n",
              "</table>\n",
              "<p>160 rows × 2 columns</p>\n",
              "</div>"
            ],
            "text/plain": [
              "      Id  Prediction\n",
              "0      0           1\n",
              "1      1           1\n",
              "2      2           1\n",
              "3      3           1\n",
              "4      4           0\n",
              "..   ...         ...\n",
              "155  155           0\n",
              "156  156           0\n",
              "157  157           0\n",
              "158  158           1\n",
              "159  159           1\n",
              "\n",
              "[160 rows x 2 columns]"
            ]
          },
          "metadata": {},
          "execution_count": 97
        }
      ]
    },
    {
      "cell_type": "code",
      "metadata": {
        "id": "0gq0OWsRDIsX"
      },
      "source": [
        "Predicted_2.to_csv(\"Predicted.csv\")"
      ],
      "execution_count": null,
      "outputs": []
    },
    {
      "cell_type": "code",
      "metadata": {
        "id": "u9TX7h_KDKaQ"
      },
      "source": [
        "!cp Predicted.csv \"drive/My Drive/\""
      ],
      "execution_count": null,
      "outputs": []
    },
    {
      "cell_type": "markdown",
      "metadata": {
        "id": "9MVtIIyEzSS2"
      },
      "source": [
        "# Work Distribution\n",
        "\n",
        "**Please briefly describe how you divided the work.**\n",
        "\n",
        "Please answer on your writeup doc!\n"
      ]
    },
    {
      "cell_type": "markdown",
      "metadata": {
        "id": "ddOznZ7P2nlI"
      },
      "source": [
        "# Project Feedback [1 point]\n",
        " e on the course staff are trying our best to adapt our teaching, projects and everything else in the class to best help you learn (and hope you get as excited about NLP as we do!). We would immenselly appreciate it if you could provide us feedback (it's a super short form!!) on this project and **it's worth 1 point of your project grade**\n",
        "\n",
        "Link to the feedback form: https://forms.gle/EfYoeggeGkr2Mb6Y7\n",
        "\n",
        "We will use this feedback to improve both **upcoming projects** and projects for next year. \n",
        "\n",
        "Thank you so much!"
      ]
    },
    {
      "cell_type": "markdown",
      "metadata": {
        "id": "fBrWSR2bs77m"
      },
      "source": [
        "# Submitting the Notebook\n",
        "\n",
        "1. Go to File (upper left corner) -> Download .ipynb -> submit this downloaded file to cms\n",
        "2. Run the first code block\n",
        "3. Replace our placeholder for your correct Google Drive directory structure in the 2nd code block below. Run the code block\n",
        "4. Put the name of this notebook into our placeholder in the 3rd code block. Run the code block\n",
        "5. Then go to the folder icon on the very left panel, under the orange CO logo. Click on the folder and wait for a PDF version of your notebook to appear. Might take a few minutes.\n",
        "6. Download the pdf version and submit to Gradescope"
      ]
    },
    {
      "cell_type": "code",
      "metadata": {
        "id": "8jg5v1sRzP5m"
      },
      "source": [
        "%%capture\n",
        "!apt-get install texlive texlive-xetex texlive-latex-extra pandoc\n",
        "!pip install pypandoc"
      ],
      "execution_count": null,
      "outputs": []
    },
    {
      "cell_type": "code",
      "metadata": {
        "id": "_eOenvlzzRTh"
      },
      "source": [
        "%%capture\n",
        "# the red text is a placeholder! Change it to your directory structure!\n",
        "!cp 'drive/My Drive/Colab Notebooks/4740_FA21_p1_netid1_netid2.ipynb' ./ "
      ],
      "execution_count": null,
      "outputs": []
    },
    {
      "cell_type": "code",
      "metadata": {
        "id": "BOMiIp6Uzj1S"
      },
      "source": [
        "# the red text is a placeholder! Change it to the name of this notebook!\n",
        "!jupyter nbconvert --to PDF \"4740_FA21_p1_netid1_netid2.ipynb\""
      ],
      "execution_count": null,
      "outputs": []
    },
    {
      "cell_type": "markdown",
      "metadata": {
        "id": "U6JokGl8f7wy"
      },
      "source": [
        "# Once Again\n",
        "Please make sure do the following:\n",
        "1. Submit the PDF version of your colab notebook on Gradescope.\n",
        "2. Submit a PDF version of your Google Doc with all your written questions complete on Gradescope.\n",
        "3. Submit the .ipynb of your colab notebook on CMS."
      ]
    },
    {
      "cell_type": "markdown",
      "metadata": {
        "id": "HvET3mDvxL2j"
      },
      "source": [
        "# You are done! ✅"
      ]
    }
  ]
}